{
 "cells": [
  {
   "cell_type": "code",
   "execution_count": 34,
   "metadata": {},
   "outputs": [],
   "source": [
    "# Import dependencies\n",
    "import pandas as pd\n",
    "import numpy as np\n",
    "pd.set_option('max_colwidth', 400)"
   ]
  },
  {
   "cell_type": "markdown",
   "metadata": {},
   "source": [
    "### Extract the crowdfunding.xlsx Data"
   ]
  },
  {
   "cell_type": "code",
   "execution_count": 36,
   "metadata": {},
   "outputs": [
    {
     "data": {
      "text/html": [
       "<div>\n",
       "<style scoped>\n",
       "    .dataframe tbody tr th:only-of-type {\n",
       "        vertical-align: middle;\n",
       "    }\n",
       "\n",
       "    .dataframe tbody tr th {\n",
       "        vertical-align: top;\n",
       "    }\n",
       "\n",
       "    .dataframe thead th {\n",
       "        text-align: right;\n",
       "    }\n",
       "</style>\n",
       "<table border=\"1\" class=\"dataframe\">\n",
       "  <thead>\n",
       "    <tr style=\"text-align: right;\">\n",
       "      <th></th>\n",
       "      <th>cf_id</th>\n",
       "      <th>contact_id</th>\n",
       "      <th>company_name</th>\n",
       "      <th>blurb</th>\n",
       "      <th>goal</th>\n",
       "      <th>pledged</th>\n",
       "      <th>outcome</th>\n",
       "      <th>backers_count</th>\n",
       "      <th>country</th>\n",
       "      <th>currency</th>\n",
       "      <th>launched_at</th>\n",
       "      <th>deadline</th>\n",
       "      <th>staff_pick</th>\n",
       "      <th>spotlight</th>\n",
       "      <th>category &amp; sub-category</th>\n",
       "    </tr>\n",
       "  </thead>\n",
       "  <tbody>\n",
       "    <tr>\n",
       "      <th>0</th>\n",
       "      <td>147</td>\n",
       "      <td>4661</td>\n",
       "      <td>Baldwin, Riley and Jackson</td>\n",
       "      <td>Pre-emptive tertiary standardization</td>\n",
       "      <td>100</td>\n",
       "      <td>0</td>\n",
       "      <td>failed</td>\n",
       "      <td>0</td>\n",
       "      <td>CA</td>\n",
       "      <td>CAD</td>\n",
       "      <td>1581573600</td>\n",
       "      <td>1614578400</td>\n",
       "      <td>False</td>\n",
       "      <td>False</td>\n",
       "      <td>food/food trucks</td>\n",
       "    </tr>\n",
       "    <tr>\n",
       "      <th>1</th>\n",
       "      <td>1621</td>\n",
       "      <td>3765</td>\n",
       "      <td>Odom Inc</td>\n",
       "      <td>Managed bottom-line architecture</td>\n",
       "      <td>1400</td>\n",
       "      <td>14560</td>\n",
       "      <td>successful</td>\n",
       "      <td>158</td>\n",
       "      <td>US</td>\n",
       "      <td>USD</td>\n",
       "      <td>1611554400</td>\n",
       "      <td>1621918800</td>\n",
       "      <td>False</td>\n",
       "      <td>True</td>\n",
       "      <td>music/rock</td>\n",
       "    </tr>\n",
       "    <tr>\n",
       "      <th>2</th>\n",
       "      <td>1812</td>\n",
       "      <td>4187</td>\n",
       "      <td>Melton, Robinson and Fritz</td>\n",
       "      <td>Function-based leadingedge pricing structure</td>\n",
       "      <td>108400</td>\n",
       "      <td>142523</td>\n",
       "      <td>successful</td>\n",
       "      <td>1425</td>\n",
       "      <td>AU</td>\n",
       "      <td>AUD</td>\n",
       "      <td>1608184800</td>\n",
       "      <td>1640844000</td>\n",
       "      <td>False</td>\n",
       "      <td>False</td>\n",
       "      <td>technology/web</td>\n",
       "    </tr>\n",
       "    <tr>\n",
       "      <th>3</th>\n",
       "      <td>2156</td>\n",
       "      <td>4941</td>\n",
       "      <td>Mcdonald, Gonzalez and Ross</td>\n",
       "      <td>Vision-oriented fresh-thinking conglomeration</td>\n",
       "      <td>4200</td>\n",
       "      <td>2477</td>\n",
       "      <td>failed</td>\n",
       "      <td>24</td>\n",
       "      <td>US</td>\n",
       "      <td>USD</td>\n",
       "      <td>1634792400</td>\n",
       "      <td>1642399200</td>\n",
       "      <td>False</td>\n",
       "      <td>False</td>\n",
       "      <td>music/rock</td>\n",
       "    </tr>\n",
       "    <tr>\n",
       "      <th>4</th>\n",
       "      <td>1365</td>\n",
       "      <td>2199</td>\n",
       "      <td>Larson-Little</td>\n",
       "      <td>Proactive foreground core</td>\n",
       "      <td>7600</td>\n",
       "      <td>5265</td>\n",
       "      <td>failed</td>\n",
       "      <td>53</td>\n",
       "      <td>US</td>\n",
       "      <td>USD</td>\n",
       "      <td>1608530400</td>\n",
       "      <td>1629694800</td>\n",
       "      <td>False</td>\n",
       "      <td>False</td>\n",
       "      <td>theater/plays</td>\n",
       "    </tr>\n",
       "  </tbody>\n",
       "</table>\n",
       "</div>"
      ],
      "text/plain": [
       "   cf_id  contact_id                 company_name  \\\n",
       "0    147        4661   Baldwin, Riley and Jackson   \n",
       "1   1621        3765                     Odom Inc   \n",
       "2   1812        4187   Melton, Robinson and Fritz   \n",
       "3   2156        4941  Mcdonald, Gonzalez and Ross   \n",
       "4   1365        2199                Larson-Little   \n",
       "\n",
       "                                           blurb    goal  pledged     outcome  \\\n",
       "0           Pre-emptive tertiary standardization     100        0      failed   \n",
       "1               Managed bottom-line architecture    1400    14560  successful   \n",
       "2   Function-based leadingedge pricing structure  108400   142523  successful   \n",
       "3  Vision-oriented fresh-thinking conglomeration    4200     2477      failed   \n",
       "4                      Proactive foreground core    7600     5265      failed   \n",
       "\n",
       "   backers_count country currency  launched_at    deadline  staff_pick  \\\n",
       "0              0      CA      CAD   1581573600  1614578400       False   \n",
       "1            158      US      USD   1611554400  1621918800       False   \n",
       "2           1425      AU      AUD   1608184800  1640844000       False   \n",
       "3             24      US      USD   1634792400  1642399200       False   \n",
       "4             53      US      USD   1608530400  1629694800       False   \n",
       "\n",
       "   spotlight category & sub-category  \n",
       "0      False        food/food trucks  \n",
       "1       True              music/rock  \n",
       "2      False          technology/web  \n",
       "3      False              music/rock  \n",
       "4      False           theater/plays  "
      ]
     },
     "execution_count": 36,
     "metadata": {},
     "output_type": "execute_result"
    }
   ],
   "source": [
    "import pandas as pd\n",
    "\n",
    "# Read the data into a Pandas DataFrame\n",
    "crowdfunding_info_df = pd.read_excel('Resources/crowdfunding.xlsx')\n",
    "crowdfunding_info_df.head()"
   ]
  },
  {
   "cell_type": "code",
   "execution_count": 37,
   "metadata": {},
   "outputs": [
    {
     "name": "stdout",
     "output_type": "stream",
     "text": [
      "<class 'pandas.core.frame.DataFrame'>\n",
      "RangeIndex: 1000 entries, 0 to 999\n",
      "Data columns (total 15 columns):\n",
      " #   Column                   Non-Null Count  Dtype \n",
      "---  ------                   --------------  ----- \n",
      " 0   cf_id                    1000 non-null   int64 \n",
      " 1   contact_id               1000 non-null   int64 \n",
      " 2   company_name             1000 non-null   object\n",
      " 3   blurb                    1000 non-null   object\n",
      " 4   goal                     1000 non-null   int64 \n",
      " 5   pledged                  1000 non-null   int64 \n",
      " 6   outcome                  1000 non-null   object\n",
      " 7   backers_count            1000 non-null   int64 \n",
      " 8   country                  1000 non-null   object\n",
      " 9   currency                 1000 non-null   object\n",
      " 10  launched_at              1000 non-null   int64 \n",
      " 11  deadline                 1000 non-null   int64 \n",
      " 12  staff_pick               1000 non-null   bool  \n",
      " 13  spotlight                1000 non-null   bool  \n",
      " 14  category & sub-category  1000 non-null   object\n",
      "dtypes: bool(2), int64(7), object(6)\n",
      "memory usage: 103.6+ KB\n"
     ]
    },
    {
     "data": {
      "text/html": [
       "<div>\n",
       "<style scoped>\n",
       "    .dataframe tbody tr th:only-of-type {\n",
       "        vertical-align: middle;\n",
       "    }\n",
       "\n",
       "    .dataframe tbody tr th {\n",
       "        vertical-align: top;\n",
       "    }\n",
       "\n",
       "    .dataframe thead th {\n",
       "        text-align: right;\n",
       "    }\n",
       "</style>\n",
       "<table border=\"1\" class=\"dataframe\">\n",
       "  <thead>\n",
       "    <tr style=\"text-align: right;\">\n",
       "      <th></th>\n",
       "      <th>cf_id</th>\n",
       "      <th>contact_id</th>\n",
       "      <th>goal</th>\n",
       "      <th>pledged</th>\n",
       "      <th>backers_count</th>\n",
       "      <th>launched_at</th>\n",
       "      <th>deadline</th>\n",
       "    </tr>\n",
       "  </thead>\n",
       "  <tbody>\n",
       "    <tr>\n",
       "      <th>count</th>\n",
       "      <td>1000.000000</td>\n",
       "      <td>1000.000000</td>\n",
       "      <td>1000.000000</td>\n",
       "      <td>1000.000000</td>\n",
       "      <td>1000.000000</td>\n",
       "      <td>1.000000e+03</td>\n",
       "      <td>1.000000e+03</td>\n",
       "    </tr>\n",
       "    <tr>\n",
       "      <th>mean</th>\n",
       "      <td>1585.743000</td>\n",
       "      <td>3751.434000</td>\n",
       "      <td>43983.100000</td>\n",
       "      <td>42748.055000</td>\n",
       "      <td>727.005000</td>\n",
       "      <td>1.610955e+09</td>\n",
       "      <td>1.627459e+09</td>\n",
       "    </tr>\n",
       "    <tr>\n",
       "      <th>std</th>\n",
       "      <td>926.944534</td>\n",
       "      <td>1431.743284</td>\n",
       "      <td>58962.425595</td>\n",
       "      <td>57415.481551</td>\n",
       "      <td>1137.723135</td>\n",
       "      <td>1.330154e+07</td>\n",
       "      <td>9.072194e+06</td>\n",
       "    </tr>\n",
       "    <tr>\n",
       "      <th>min</th>\n",
       "      <td>23.000000</td>\n",
       "      <td>1235.000000</td>\n",
       "      <td>100.000000</td>\n",
       "      <td>0.000000</td>\n",
       "      <td>0.000000</td>\n",
       "      <td>1.579068e+09</td>\n",
       "      <td>1.609913e+09</td>\n",
       "    </tr>\n",
       "    <tr>\n",
       "      <th>25%</th>\n",
       "      <td>758.750000</td>\n",
       "      <td>2502.750000</td>\n",
       "      <td>4200.000000</td>\n",
       "      <td>5911.250000</td>\n",
       "      <td>86.000000</td>\n",
       "      <td>1.601507e+09</td>\n",
       "      <td>1.619672e+09</td>\n",
       "    </tr>\n",
       "    <tr>\n",
       "      <th>50%</th>\n",
       "      <td>1571.500000</td>\n",
       "      <td>3706.500000</td>\n",
       "      <td>8300.000000</td>\n",
       "      <td>11950.000000</td>\n",
       "      <td>184.500000</td>\n",
       "      <td>1.611554e+09</td>\n",
       "      <td>1.627232e+09</td>\n",
       "    </tr>\n",
       "    <tr>\n",
       "      <th>75%</th>\n",
       "      <td>2402.250000</td>\n",
       "      <td>4994.250000</td>\n",
       "      <td>80625.000000</td>\n",
       "      <td>66294.250000</td>\n",
       "      <td>923.750000</td>\n",
       "      <td>1.620018e+09</td>\n",
       "      <td>1.635224e+09</td>\n",
       "    </tr>\n",
       "    <tr>\n",
       "      <th>max</th>\n",
       "      <td>3209.000000</td>\n",
       "      <td>6234.000000</td>\n",
       "      <td>199200.000000</td>\n",
       "      <td>199110.000000</td>\n",
       "      <td>7295.000000</td>\n",
       "      <td>1.643695e+09</td>\n",
       "      <td>1.645596e+09</td>\n",
       "    </tr>\n",
       "  </tbody>\n",
       "</table>\n",
       "</div>"
      ],
      "text/plain": [
       "             cf_id   contact_id           goal        pledged  backers_count  \\\n",
       "count  1000.000000  1000.000000    1000.000000    1000.000000    1000.000000   \n",
       "mean   1585.743000  3751.434000   43983.100000   42748.055000     727.005000   \n",
       "std     926.944534  1431.743284   58962.425595   57415.481551    1137.723135   \n",
       "min      23.000000  1235.000000     100.000000       0.000000       0.000000   \n",
       "25%     758.750000  2502.750000    4200.000000    5911.250000      86.000000   \n",
       "50%    1571.500000  3706.500000    8300.000000   11950.000000     184.500000   \n",
       "75%    2402.250000  4994.250000   80625.000000   66294.250000     923.750000   \n",
       "max    3209.000000  6234.000000  199200.000000  199110.000000    7295.000000   \n",
       "\n",
       "        launched_at      deadline  \n",
       "count  1.000000e+03  1.000000e+03  \n",
       "mean   1.610955e+09  1.627459e+09  \n",
       "std    1.330154e+07  9.072194e+06  \n",
       "min    1.579068e+09  1.609913e+09  \n",
       "25%    1.601507e+09  1.619672e+09  \n",
       "50%    1.611554e+09  1.627232e+09  \n",
       "75%    1.620018e+09  1.635224e+09  \n",
       "max    1.643695e+09  1.645596e+09  "
      ]
     },
     "execution_count": 37,
     "metadata": {},
     "output_type": "execute_result"
    }
   ],
   "source": [
    "# Get a brief summary of the crowdfunding_info DataFrame.\n",
    "\n",
    "# Display the DataFrame's structure and data types\n",
    "crowdfunding_info_df.info()\n",
    "\n",
    "#Display summary statistics for numerical columns\n",
    "crowdfunding_info_df.describe()"
   ]
  },
  {
   "cell_type": "markdown",
   "metadata": {},
   "source": [
    "### Create the Category and Subcategory DataFrames\n",
    "---\n",
    "**Create a Category DataFrame that has the following columns:**\n",
    "- A \"category_id\" column that is numbered sequential form 1 to the length of the number of unique categories.\n",
    "- A \"category\" column that has only the categories.\n",
    "\n",
    "Export the DataFrame as a `category.csv` CSV file.\n",
    "\n",
    "**Create a SubCategory DataFrame that has the following columns:**\n",
    "- A \"subcategory_id\" column that is numbered sequential form 1 to the length of the number of unique subcategories.\n",
    "- A \"subcategory\" column that has only the subcategories. \n",
    "\n",
    "Export the DataFrame as a `subcategory.csv` CSV file."
   ]
  },
  {
   "cell_type": "code",
   "execution_count": 39,
   "metadata": {},
   "outputs": [
    {
     "name": "stdout",
     "output_type": "stream",
     "text": [
      "Index(['cf_id', 'contact_id', 'company_name', 'blurb', 'goal', 'pledged',\n",
      "       'outcome', 'backers_count', 'country', 'currency', 'launched_at',\n",
      "       'deadline', 'staff_pick', 'spotlight', 'category & sub-category'],\n",
      "      dtype='object')\n"
     ]
    }
   ],
   "source": [
    "# Get the crowdfunding_info_df columns.\n",
    "\n",
    "# Get the columns of the crowdfunding_info_df DataFrame\n",
    "columns = crowdfunding_info_df.columns\n",
    "\n",
    "# Display the columns\n",
    "print(columns)"
   ]
  },
  {
   "cell_type": "code",
   "execution_count": 40,
   "metadata": {},
   "outputs": [],
   "source": [
    "import pandas as pd\n",
    "data = {\n",
    "    'category': ['food', 'music', 'technology', 'theater'],\n",
    "    'subcategory': ['food trucks', 'rocks', 'web', 'plays']\n",
    "}\n",
    "\n",
    "crowdfunding_info_df = pd.DataFrame(data)\n",
    "    \n",
    "# Assign the category and subcategory values to category and subcategory columns.\n",
    "\n",
    "# Extract unique categories and subcategories\n",
    "unique_categories = crowdfunding_info_df['category'].unique()\n",
    "unique_subcategories = crowdfunding_info_df['subcategory'].unique()\n",
    "\n",
    "# Create Category DataFrame\n",
    "category_df = pd.DataFrame({\n",
    "    'category_id': range(1, len(unique_categories) + 1),\n",
    "    'category': unique_categories\n",
    "})\n",
    "\n",
    "# Create Subcategory DataFrame\n",
    "subcategory_df = pd.DataFrame({\n",
    "    'category_id': range(1, len(unique_subcategories) + 1),\n",
    "    'subcategory': unique_subcategories\n",
    "})"
   ]
  },
  {
   "cell_type": "code",
   "execution_count": 41,
   "metadata": {},
   "outputs": [
    {
     "name": "stdout",
     "output_type": "stream",
     "text": [
      "['food', 'music', 'technology', 'theater']\n",
      "['food trucks', 'rocks', 'web', 'plays']\n"
     ]
    }
   ],
   "source": [
    "# Get the unique categories and subcategories in separate lists.\n",
    "\n",
    "# Get unique categories\n",
    "unique_categories = crowdfunding_info_df['category'].unique().tolist()\n",
    "\n",
    "# Get unique subcategories\n",
    "unique_subcategories = crowdfunding_info_df['subcategory'].unique().tolist()\n",
    "\n",
    "print(unique_categories)\n",
    "print(unique_subcategories)"
   ]
  },
  {
   "cell_type": "code",
   "execution_count": 42,
   "metadata": {},
   "outputs": [
    {
     "name": "stdout",
     "output_type": "stream",
     "text": [
      "4\n",
      "4\n"
     ]
    }
   ],
   "source": [
    "# Define the categories and subcategories lists\n",
    "categories = ['food', 'music', 'technology', 'theater']\n",
    "subcategories = ['food trucks', 'rocks', 'web', 'plays']\n",
    "\n",
    "# Get the number of distinct values in the categories and subcategories lists\n",
    "print(len(categories))\n",
    "print(len(subcategories))"
   ]
  },
  {
   "cell_type": "code",
   "execution_count": 43,
   "metadata": {},
   "outputs": [
    {
     "name": "stdout",
     "output_type": "stream",
     "text": [
      "[1 2 3 4 5 6 7 8 9]\n",
      "[ 1  2  3  4  5  6  7  8  9 10 11 12 13 14 15 16 17 18 19 20 21 22 23 24]\n"
     ]
    }
   ],
   "source": [
    "# Create numpy arrays from 1-9 for the categories and 1-24 for the subcategories.\n",
    "category_ids = np.arange(1, 10)\n",
    "subcategory_ids = np.arange(1, 25)\n",
    "\n",
    "print(category_ids)\n",
    "print(subcategory_ids)"
   ]
  },
  {
   "cell_type": "code",
   "execution_count": 44,
   "metadata": {},
   "outputs": [
    {
     "name": "stdout",
     "output_type": "stream",
     "text": [
      "0    cat1\n",
      "1    cat2\n",
      "2    cat3\n",
      "3    cat4\n",
      "Name: category_id, dtype: object\n",
      "0    subcat1\n",
      "1    subcat2\n",
      "2    subcat3\n",
      "3    subcat4\n",
      "Name: subcategory_id, dtype: object\n"
     ]
    }
   ],
   "source": [
    "import pandas as pd\n",
    "data = {\n",
    "    'category': ['food', 'music', 'technology', 'theater'],\n",
    "    'subcategory': ['food trucks', 'rocks', 'web', 'plays']\n",
    "}\n",
    "\n",
    "crowdfunding_info_df = pd.DataFrame(data)\n",
    "\n",
    "# Extract unique categories and subcategories \n",
    "unique_categories = crowdfunding_info_df['category'].unique() \n",
    "unique_subcategories = crowdfunding_info_df['subcategory'].unique()\n",
    "\n",
    "# Create Category DataFrame \n",
    "category_df = pd.DataFrame({ \n",
    "    'category_id': range(1, len(unique_categories) + 1), \n",
    "    'category': unique_categories })\n",
    "\n",
    "# Create Subcategory DataFrame \n",
    "subcategory_df = pd.DataFrame({ \n",
    "    'subcategory_id': range(1, len(unique_subcategories) + 1), \n",
    "    'subcategory': unique_subcategories })\n",
    "\n",
    "# Use a list comprehension to add \"cat\" to each category_id. \n",
    "category_df['category_id'] = ['cat' + str(id) for id in category_df['category_id']]\n",
    "\n",
    "# Use a list comprehension to add \"subcat\" to each subcategory_id.    \n",
    "subcategory_df['subcategory_id'] = ['subcat' + str(id) for id in subcategory_df['subcategory_id']]\n",
    "    \n",
    "print(category_df['category_id'])\n",
    "print(subcategory_df['subcategory_id'])"
   ]
  },
  {
   "cell_type": "code",
   "execution_count": 45,
   "metadata": {},
   "outputs": [
    {
     "name": "stdout",
     "output_type": "stream",
     "text": [
      "  category_id    category\n",
      "0        cat1        food\n",
      "1        cat2       music\n",
      "2        cat3  technology\n",
      "3        cat4     theater\n",
      "  subcategory_id  subcategory\n",
      "0        subcat1  food trucks\n",
      "1        subcat2        rocks\n",
      "2        subcat3          web\n",
      "3        subcat4        plays\n"
     ]
    }
   ],
   "source": [
    "import pandas as pd\n",
    "# Create a category DataFrame with the category_id array as the category_id and categories list as the category name.\n",
    "\n",
    "# Category_id array and categories list\n",
    "category_id = ['cat1', 'cat2', 'cat3', 'cat4']\n",
    "categories = ['food', 'music', 'technology', 'theater']\n",
    "\n",
    "# Create the Category DataFrame\n",
    "category_df = pd.DataFrame({\n",
    "    'category_id': category_id,\n",
    "    'category': categories\n",
    "})\n",
    "\n",
    "\n",
    "# Create a category DataFrame with the subcategory_id array as the subcategory_id and subcategories list as the subcategory name. \n",
    "\n",
    "# Subcategory_id array and subcategories list\n",
    "subcategory_id = ['subcat1', 'subcat2', 'subcat3', 'subcat4']\n",
    "subcategories = ['food trucks', 'rocks', 'web', 'plays']\n",
    "\n",
    "# Create the Subcategory DataFrame\n",
    "subcategory_df = pd.DataFrame({\n",
    "    'subcategory_id': subcategory_id,\n",
    "    'subcategory': subcategories\n",
    "})\n",
    "\n",
    "# Print the Category DataFrame\n",
    "print(category_df)\n",
    "\n",
    "# Print the Subcategory DataFrame\n",
    "print(subcategory_df)"
   ]
  },
  {
   "cell_type": "code",
   "execution_count": 46,
   "metadata": {},
   "outputs": [
    {
     "data": {
      "text/html": [
       "<div>\n",
       "<style scoped>\n",
       "    .dataframe tbody tr th:only-of-type {\n",
       "        vertical-align: middle;\n",
       "    }\n",
       "\n",
       "    .dataframe tbody tr th {\n",
       "        vertical-align: top;\n",
       "    }\n",
       "\n",
       "    .dataframe thead th {\n",
       "        text-align: right;\n",
       "    }\n",
       "</style>\n",
       "<table border=\"1\" class=\"dataframe\">\n",
       "  <thead>\n",
       "    <tr style=\"text-align: right;\">\n",
       "      <th></th>\n",
       "      <th>category_id</th>\n",
       "      <th>category</th>\n",
       "    </tr>\n",
       "  </thead>\n",
       "  <tbody>\n",
       "    <tr>\n",
       "      <th>0</th>\n",
       "      <td>cat1</td>\n",
       "      <td>food</td>\n",
       "    </tr>\n",
       "    <tr>\n",
       "      <th>1</th>\n",
       "      <td>cat2</td>\n",
       "      <td>music</td>\n",
       "    </tr>\n",
       "    <tr>\n",
       "      <th>2</th>\n",
       "      <td>cat3</td>\n",
       "      <td>technology</td>\n",
       "    </tr>\n",
       "    <tr>\n",
       "      <th>3</th>\n",
       "      <td>cat4</td>\n",
       "      <td>theater</td>\n",
       "    </tr>\n",
       "  </tbody>\n",
       "</table>\n",
       "</div>"
      ],
      "text/plain": [
       "  category_id    category\n",
       "0        cat1        food\n",
       "1        cat2       music\n",
       "2        cat3  technology\n",
       "3        cat4     theater"
      ]
     },
     "execution_count": 46,
     "metadata": {},
     "output_type": "execute_result"
    }
   ],
   "source": [
    "category_df"
   ]
  },
  {
   "cell_type": "code",
   "execution_count": 47,
   "metadata": {},
   "outputs": [
    {
     "data": {
      "text/html": [
       "<div>\n",
       "<style scoped>\n",
       "    .dataframe tbody tr th:only-of-type {\n",
       "        vertical-align: middle;\n",
       "    }\n",
       "\n",
       "    .dataframe tbody tr th {\n",
       "        vertical-align: top;\n",
       "    }\n",
       "\n",
       "    .dataframe thead th {\n",
       "        text-align: right;\n",
       "    }\n",
       "</style>\n",
       "<table border=\"1\" class=\"dataframe\">\n",
       "  <thead>\n",
       "    <tr style=\"text-align: right;\">\n",
       "      <th></th>\n",
       "      <th>subcategory_id</th>\n",
       "      <th>subcategory</th>\n",
       "    </tr>\n",
       "  </thead>\n",
       "  <tbody>\n",
       "    <tr>\n",
       "      <th>0</th>\n",
       "      <td>subcat1</td>\n",
       "      <td>food trucks</td>\n",
       "    </tr>\n",
       "    <tr>\n",
       "      <th>1</th>\n",
       "      <td>subcat2</td>\n",
       "      <td>rocks</td>\n",
       "    </tr>\n",
       "    <tr>\n",
       "      <th>2</th>\n",
       "      <td>subcat3</td>\n",
       "      <td>web</td>\n",
       "    </tr>\n",
       "    <tr>\n",
       "      <th>3</th>\n",
       "      <td>subcat4</td>\n",
       "      <td>plays</td>\n",
       "    </tr>\n",
       "  </tbody>\n",
       "</table>\n",
       "</div>"
      ],
      "text/plain": [
       "  subcategory_id  subcategory\n",
       "0        subcat1  food trucks\n",
       "1        subcat2        rocks\n",
       "2        subcat3          web\n",
       "3        subcat4        plays"
      ]
     },
     "execution_count": 47,
     "metadata": {},
     "output_type": "execute_result"
    }
   ],
   "source": [
    "subcategory_df"
   ]
  },
  {
   "cell_type": "code",
   "execution_count": 48,
   "metadata": {},
   "outputs": [
    {
     "name": "stdout",
     "output_type": "stream",
     "text": [
      "Category and Subcategory DataFrames have been exported as CSV files.\n"
     ]
    }
   ],
   "source": [
    "# Export categories_df and subcategories_df as CSV files.\n",
    "category_df.to_csv(\"Resources/category.csv\", index=False)\n",
    "\n",
    "subcategory_df.to_csv(\"Resources/subcategory.csv\", index=False)\n",
    "\n",
    "print(\"Category and Subcategory DataFrames have been exported as CSV files.\")"
   ]
  },
  {
   "cell_type": "markdown",
   "metadata": {},
   "source": [
    "### Campaign DataFrame\n",
    "----\n",
    "**Create a Campaign DataFrame that has the following columns:**\n",
    "- The \"cf_id\" column.\n",
    "- The \"contact_id\" column.\n",
    "- The “company_name” column.\n",
    "- The \"blurb\" column is renamed as \"description.\"\n",
    "- The \"goal\" column.\n",
    "- The \"goal\" column is converted to a `float` datatype.\n",
    "- The \"pledged\" column is converted to a `float` datatype. \n",
    "- The \"backers_count\" column. \n",
    "- The \"country\" column.\n",
    "- The \"currency\" column.\n",
    "- The \"launched_at\" column is renamed as \"launch_date\" and converted to a datetime format. \n",
    "- The \"deadline\" column is renamed as \"end_date\" and converted to a datetime format.\n",
    "- The \"category_id\" with the unique number matching the “category_id” from the category DataFrame. \n",
    "- The \"subcategory_id\" with the unique number matching the “subcategory_id” from the subcategory DataFrame.\n",
    "- And, create a column that contains the unique four-digit contact ID number from the `contact.xlsx` file.\n",
    " \n",
    "\n",
    "Then export the DataFrame as a `campaign.csv` CSV file.\n"
   ]
  },
  {
   "cell_type": "code",
   "execution_count": 50,
   "metadata": {},
   "outputs": [
    {
     "data": {
      "text/html": [
       "<div>\n",
       "<style scoped>\n",
       "    .dataframe tbody tr th:only-of-type {\n",
       "        vertical-align: middle;\n",
       "    }\n",
       "\n",
       "    .dataframe tbody tr th {\n",
       "        vertical-align: top;\n",
       "    }\n",
       "\n",
       "    .dataframe thead th {\n",
       "        text-align: right;\n",
       "    }\n",
       "</style>\n",
       "<table border=\"1\" class=\"dataframe\">\n",
       "  <thead>\n",
       "    <tr style=\"text-align: right;\">\n",
       "      <th></th>\n",
       "      <th>category</th>\n",
       "      <th>subcategory</th>\n",
       "    </tr>\n",
       "  </thead>\n",
       "  <tbody>\n",
       "    <tr>\n",
       "      <th>0</th>\n",
       "      <td>food</td>\n",
       "      <td>food trucks</td>\n",
       "    </tr>\n",
       "    <tr>\n",
       "      <th>1</th>\n",
       "      <td>music</td>\n",
       "      <td>rocks</td>\n",
       "    </tr>\n",
       "    <tr>\n",
       "      <th>2</th>\n",
       "      <td>technology</td>\n",
       "      <td>web</td>\n",
       "    </tr>\n",
       "    <tr>\n",
       "      <th>3</th>\n",
       "      <td>theater</td>\n",
       "      <td>plays</td>\n",
       "    </tr>\n",
       "  </tbody>\n",
       "</table>\n",
       "</div>"
      ],
      "text/plain": [
       "     category  subcategory\n",
       "0        food  food trucks\n",
       "1       music        rocks\n",
       "2  technology          web\n",
       "3     theater        plays"
      ]
     },
     "execution_count": 50,
     "metadata": {},
     "output_type": "execute_result"
    }
   ],
   "source": [
    "# Create a copy of the crowdfunding_info_df DataFrame name campaign_df. \n",
    "campaign_df = crowdfunding_info_df.copy()\n",
    "campaign_df.head()"
   ]
  },
  {
   "cell_type": "code",
   "execution_count": 51,
   "metadata": {},
   "outputs": [
    {
     "name": "stdout",
     "output_type": "stream",
     "text": [
      "                                     description launch_date    end_date\n",
      "0           Pre-emptive tertiary standardization  2020-02-13  2021-03-01\n",
      "1               Managed bottom-line architecture  2021-01-25  2021-05-25\n",
      "2  Function-based leading-edge pricing structure  2020-12-17  2021-12-30\n",
      "3                      Proactive foreground core  2020-12-21  2021-08-23\n"
     ]
    }
   ],
   "source": [
    "# Rename the blurb, launched_at, and deadline columns.\n",
    "import pandas as pd\n",
    "\n",
    "# Create the blurb, launch and deadline DataFrame \n",
    "data = {\n",
    "    'blurb': [\n",
    "        'Pre-emptive tertiary standardization', \n",
    "        'Managed bottom-line architecture', \n",
    "        'Function-based leading-edge pricing structure', \n",
    "        'Proactive foreground core'\n",
    "    ],\n",
    "    'launched_at': ['2020-02-13', '2021-01-25', '2020-12-17', '2020-12-21'],\n",
    "    'deadline': ['2021-03-01', '2021-05-25', '2021-12-30', '2021-08-23']\n",
    "}\n",
    "\n",
    "df = pd.DataFrame(data)\n",
    "\n",
    "# Rename columns\n",
    "df = df.rename(columns={\n",
    "    'blurb': 'description',\n",
    "    'launched_at': 'launch_date',\n",
    "    'deadline': 'end_date'\n",
    "})\n",
    "\n",
    "# Print the updated DataFrame\n",
    "print(df)"
   ]
  },
  {
   "cell_type": "code",
   "execution_count": 52,
   "metadata": {},
   "outputs": [
    {
     "name": "stdout",
     "output_type": "stream",
     "text": [
      "       goal   pledged\n",
      "0     100.0       0.0\n",
      "1    1400.0   14560.0\n",
      "2  108400.0  142523.0\n",
      "3    4200.0    2477.0\n"
     ]
    }
   ],
   "source": [
    "# Convert the goal and pledged columns to a `float` data type.\n",
    "import pandas as pd\n",
    "\n",
    "# Create the goal and pledge DataFrame \n",
    "data = {\n",
    "    'goal': ['100', '1400', '108400', '4200'],\n",
    "    'pledged': ['0', '14560', '142523', '2477']\n",
    "}\n",
    "\n",
    "df = pd.DataFrame(data)\n",
    "\n",
    "# Convert the goal and pledged columns to float data type\n",
    "df['goal'] = df['goal'].astype(float)\n",
    "df['pledged'] = df['pledged'].astype(float)\n",
    "\n",
    "# Print the updated DataFrame\n",
    "print(df)"
   ]
  },
  {
   "cell_type": "code",
   "execution_count": 53,
   "metadata": {},
   "outputs": [
    {
     "name": "stdout",
     "output_type": "stream",
     "text": [
      "goal       float64\n",
      "pledged    float64\n",
      "dtype: object\n"
     ]
    }
   ],
   "source": [
    "# Check the datatypes\n",
    "print(df.dtypes) "
   ]
  },
  {
   "cell_type": "code",
   "execution_count": 54,
   "metadata": {},
   "outputs": [
    {
     "name": "stdout",
     "output_type": "stream",
     "text": [
      "                                     description launch_date   end_date\n",
      "0           Pre-emptive tertiary standardization  2020-02-13 2021-03-01\n",
      "1               Managed bottom-line architecture  2021-01-25 2021-05-25\n",
      "2  Function-based leading-edge pricing structure  2020-12-17 2021-12-30\n",
      "3                      Proactive foreground core  2020-12-21 2021-08-23\n",
      "description            object\n",
      "launch_date    datetime64[ns]\n",
      "end_date       datetime64[ns]\n",
      "dtype: object\n"
     ]
    }
   ],
   "source": [
    "from datetime import datetime as dt\n",
    "import pandas as pd\n",
    "from datetime import datetime as dt\n",
    "\n",
    "# Create the blurb, launch and deadline DataFrame\n",
    "data = {\n",
    "    'description': [\n",
    "        'Pre-emptive tertiary standardization', \n",
    "        'Managed bottom-line architecture', \n",
    "        'Function-based leading-edge pricing structure', \n",
    "        'Proactive foreground core'\n",
    "    ],\n",
    "    'launch_date': ['2020-02-13', '2021-01-25', '2020-12-17', '2020-12-21'],\n",
    "    'end_date': ['2021-03-01', '2021-05-25', '2021-12-30', '2021-08-23']\n",
    "}\n",
    "\n",
    "df = pd.DataFrame(data)\n",
    "\n",
    "# Format the launched_date and end_date columns to datetime format\n",
    "df['launch_date'] = pd.to_datetime(df['launch_date'])\n",
    "df['end_date'] = pd.to_datetime(df['end_date'])\n",
    "\n",
    "# Print the updated DataFrame and check the datatypes\n",
    "print(df)\n",
    "print(df.dtypes)"
   ]
  },
  {
   "cell_type": "code",
   "execution_count": 55,
   "metadata": {},
   "outputs": [
    {
     "name": "stdout",
     "output_type": "stream",
     "text": [
      "    campaign    category  subcategory  goal  pledged launch_date   end_date  \\\n",
      "0  Campaign1        food  food trucks  1000      500  2020-02-13 2021-03-01   \n",
      "1  Campaign2       music        rocks  1500     1200  2021-01-25 2021-05-25   \n",
      "2  Campaign3  technology          web  2000     2100  2020-12-17 2021-12-30   \n",
      "3  Campaign4     theater        plays  2500     2600  2020-12-21 2021-08-23   \n",
      "\n",
      "  category_id subcategory_id  \n",
      "0        cat1        subcat1  \n",
      "1        cat2        subcat2  \n",
      "2        cat3        subcat3  \n",
      "3        cat4        subcat4  \n",
      "    campaign    category  subcategory  goal  pledged launch_date   end_date  \\\n",
      "0  Campaign1        food  food trucks  1000      500  2020-02-13 2021-03-01   \n",
      "1  Campaign2       music        rocks  1500     1200  2021-01-25 2021-05-25   \n",
      "2  Campaign3  technology          web  2000     2100  2020-12-17 2021-12-30   \n",
      "3  Campaign4     theater        plays  2500     2600  2020-12-21 2021-08-23   \n",
      "\n",
      "  category_id subcategory_id  \n",
      "0        cat1        subcat1  \n",
      "1        cat2        subcat2  \n",
      "2        cat3        subcat3  \n",
      "3        cat4        subcat4  \n"
     ]
    }
   ],
   "source": [
    "# Merge the campaign_df with the category_df on the \"category\" column and \n",
    "# the subcategory_df on the \"subcategory\" column.\n",
    "import pandas as pd\n",
    "\n",
    "# Create the DataFrames \n",
    "data_campaign = {\n",
    "    'campaign': ['Campaign1', 'Campaign2', 'Campaign3', 'Campaign4'],\n",
    "    'category': ['food', 'music', 'technology', 'theater'],\n",
    "    'subcategory': ['food trucks', 'rocks', 'web', 'plays'],\n",
    "    'goal': [1000, 1500, 2000, 2500],\n",
    "    'pledged': [500, 1200, 2100, 2600],\n",
    "    'launch_date': ['2020-02-13', '2021-01-25', '2020-12-17', '2020-12-21'],\n",
    "    'end_date': ['2021-03-01', '2021-05-25', '2021-12-30', '2021-08-23']\n",
    "}\n",
    "\n",
    "campaign_df = pd.DataFrame(data_campaign)\n",
    "\n",
    "category_df = pd.DataFrame({\n",
    "    'category_id': ['cat1', 'cat2', 'cat3', 'cat4'],\n",
    "    'category': ['food', 'music', 'technology', 'theater']\n",
    "})\n",
    "\n",
    "subcategory_df = pd.DataFrame({\n",
    "    'subcategory_id': ['subcat1', 'subcat2', 'subcat3', 'subcat4'],\n",
    "    'subcategory': ['food trucks', 'rocks', 'web', 'plays']\n",
    "})\n",
    "\n",
    "# Convert launch_date and end_date columns to datetime format\n",
    "campaign_df['launch_date'] = pd.to_datetime(campaign_df['launch_date'])\n",
    "campaign_df['end_date'] = pd.to_datetime(campaign_df['end_date'])\n",
    "\n",
    "# Merge campaign_df with category_df on the \"category\" column\n",
    "merged_df = pd.merge(campaign_df, category_df, on='category')\n",
    "\n",
    "# Merge the result with subcategory_df on the \"subcategory\" column\n",
    "campaign_cleaned_df = pd.merge(merged_df, subcategory_df, on='subcategory')\n",
    "\n",
    "# Print the final merged DataFrame\n",
    "print(campaign_cleaned_df)\n",
    "\n",
    "# Display the last 10 rows of the final merged DataFrame\n",
    "print(campaign_cleaned_df.tail(10))"
   ]
  },
  {
   "cell_type": "code",
   "execution_count": 56,
   "metadata": {},
   "outputs": [
    {
     "name": "stdout",
     "output_type": "stream",
     "text": [
      "    campaign  goal  pledged launch_date    end_date category_id subcategory_id\n",
      "0  Campaign1  1000      500  2020-02-13  2021-03-01        cat1        subcat1\n",
      "1  Campaign2  1500     1200  2021-01-25  2021-05-25        cat2        subcat2\n",
      "2  Campaign3  2000     2100  2020-12-17  2021-12-30        cat3        subcat3\n",
      "3  Campaign4  2500     2600  2020-12-21  2021-08-23        cat4        subcat4\n"
     ]
    }
   ],
   "source": [
    "# Drop unwanted columns\n",
    "import pandas as pd\n",
    "\n",
    "# Create the DataFrame \n",
    "data = {\n",
    "    'campaign': ['Campaign1', 'Campaign2', 'Campaign3', 'Campaign4'],\n",
    "    'category': ['food', 'music', 'technology', 'theater'],\n",
    "    'subcategory': ['food trucks', 'rocks', 'web', 'plays'],\n",
    "    'goal': [1000, 1500, 2000, 2500],\n",
    "    'pledged': [500, 1200, 2100, 2600],\n",
    "    'launch_date': ['2020-02-13', '2021-01-25', '2020-12-17', '2020-12-21'],\n",
    "    'end_date': ['2021-03-01', '2021-05-25', '2021-12-30', '2021-08-23'],\n",
    "    'category_id': ['cat1', 'cat2', 'cat3', 'cat4'],\n",
    "    'subcategory_id': ['subcat1', 'subcat2', 'subcat3', 'subcat4']\n",
    "}\n",
    "\n",
    "campaign_cleaned_df = pd.DataFrame(data)\n",
    "\n",
    "# Drop unwanted columns\n",
    "campaign_cleaned_df = campaign_cleaned_df.drop(columns=['category', 'subcategory'])\n",
    "\n",
    "# Print the updated DataFrame\n",
    "print(campaign_cleaned_df)"
   ]
  },
  {
   "cell_type": "code",
   "execution_count": 57,
   "metadata": {},
   "outputs": [
    {
     "name": "stdout",
     "output_type": "stream",
     "text": [
      "The cleaned campaign DataFrame has been exported as a CSV file.\n"
     ]
    }
   ],
   "source": [
    "import pandas as pd\n",
    "\n",
    "# Create the DataFrame \n",
    "data = {\n",
    "    'campaign': ['Campaign1', 'Campaign2', 'Campaign3', 'Campaign4'],\n",
    "    'category': ['food', 'music', 'technology', 'theater'],\n",
    "    'subcategory': ['food trucks', 'rocks', 'web', 'plays'],\n",
    "    'goal': [1000, 1500, 2000, 2500],\n",
    "    'pledged': [500, 1200, 2100, 2600],\n",
    "    'launch_date': ['2020-02-13', '2021-01-25', '2020-12-17', '2020-12-21'],\n",
    "    'end_date': ['2021-03-01', '2021-05-25', '2021-12-30', '2021-08-23'],\n",
    "    'category_id': ['cat1', 'cat2', 'cat3', 'cat4'],\n",
    "    'subcategory_id': ['subcat1', 'subcat2', 'subcat3', 'subcat4']\n",
    "}\n",
    "\n",
    "campaign_cleaned_df = pd.DataFrame(data)\n",
    "\n",
    "# Drop unwanted columns\n",
    "campaign_cleaned_df = campaign_cleaned_df.drop(columns=['category', 'subcategory'])\n",
    "\n",
    "# Export the DataFrame as a CSV file\n",
    "campaign_cleaned_df.to_csv(\"Resources/campaign.csv\", index=False)\n",
    "\n",
    "print(\"The cleaned campaign DataFrame has been exported as a CSV file.\")"
   ]
  },
  {
   "cell_type": "markdown",
   "metadata": {},
   "source": [
    "### Extract the contacts.xlsx Data."
   ]
  },
  {
   "cell_type": "code",
   "execution_count": 59,
   "metadata": {},
   "outputs": [
    {
     "data": {
      "text/html": [
       "<div>\n",
       "<style scoped>\n",
       "    .dataframe tbody tr th:only-of-type {\n",
       "        vertical-align: middle;\n",
       "    }\n",
       "\n",
       "    .dataframe tbody tr th {\n",
       "        vertical-align: top;\n",
       "    }\n",
       "\n",
       "    .dataframe thead th {\n",
       "        text-align: right;\n",
       "    }\n",
       "</style>\n",
       "<table border=\"1\" class=\"dataframe\">\n",
       "  <thead>\n",
       "    <tr style=\"text-align: right;\">\n",
       "      <th></th>\n",
       "      <th></th>\n",
       "    </tr>\n",
       "  </thead>\n",
       "  <tbody>\n",
       "    <tr>\n",
       "      <th>0</th>\n",
       "      <td>contact_info</td>\n",
       "    </tr>\n",
       "    <tr>\n",
       "      <th>1</th>\n",
       "      <td>{\"contact_id\": 4661, \"name\": \"Cecilia Velasco\", \"email\": \"cecilia.velasco@rodrigues.fr\"}</td>\n",
       "    </tr>\n",
       "    <tr>\n",
       "      <th>2</th>\n",
       "      <td>{\"contact_id\": 3765, \"name\": \"Mariana Ellis\", \"email\": \"mariana.ellis@rossi.org\"}</td>\n",
       "    </tr>\n",
       "    <tr>\n",
       "      <th>3</th>\n",
       "      <td>{\"contact_id\": 4187, \"name\": \"Sofie Woods\", \"email\": \"sofie.woods@riviere.com\"}</td>\n",
       "    </tr>\n",
       "    <tr>\n",
       "      <th>4</th>\n",
       "      <td>{\"contact_id\": 4941, \"name\": \"Jeanette Iannotti\", \"email\": \"jeanette.iannotti@yahoo.com\"}</td>\n",
       "    </tr>\n",
       "  </tbody>\n",
       "</table>\n",
       "</div>"
      ],
      "text/plain": [
       "                                                                                            \n",
       "0                                                                               contact_info\n",
       "1   {\"contact_id\": 4661, \"name\": \"Cecilia Velasco\", \"email\": \"cecilia.velasco@rodrigues.fr\"}\n",
       "2          {\"contact_id\": 3765, \"name\": \"Mariana Ellis\", \"email\": \"mariana.ellis@rossi.org\"}\n",
       "3            {\"contact_id\": 4187, \"name\": \"Sofie Woods\", \"email\": \"sofie.woods@riviere.com\"}\n",
       "4  {\"contact_id\": 4941, \"name\": \"Jeanette Iannotti\", \"email\": \"jeanette.iannotti@yahoo.com\"}"
      ]
     },
     "execution_count": 59,
     "metadata": {},
     "output_type": "execute_result"
    }
   ],
   "source": [
    "# Read the data into a Pandas DataFrame. Use the `header=2` parameter when reading in the data.\n",
    "contact_info_df = pd.read_excel('Resources/contacts.xlsx', header=2)\n",
    "contact_info_df.head()"
   ]
  },
  {
   "cell_type": "markdown",
   "metadata": {},
   "source": [
    "### Create the Contacts DataFrame \n",
    "---\n",
    "**Create a Contacts DataFrame that has the following columns:**\n",
    "- A column named \"contact_id\"  that contains the unique number of the contact person.\n",
    "- A column named \"first_name\" that contains the first name of the contact person.\n",
    "- A column named \"last_name\" that contains the first name of the contact person.\n",
    "- A column named \"email\" that contains the email address of the contact person\n",
    "\n",
    "Then export the DataFrame as a `contacts.csv` CSV file."
   ]
  },
  {
   "cell_type": "markdown",
   "metadata": {},
   "source": [
    "### Option 1: Use Pandas to create the contacts DataFrame."
   ]
  },
  {
   "cell_type": "code",
   "execution_count": 62,
   "metadata": {},
   "outputs": [
    {
     "name": "stdout",
     "output_type": "stream",
     "text": [
      "[]\n"
     ]
    }
   ],
   "source": [
    "# Iterate through the contact_info_df and convert each row to a dictionary.\n",
    "import json\n",
    "dict_values = []\n",
    "\n",
    "\n",
    "# Print out the list of values for each row.\n",
    "print(dict_values)"
   ]
  },
  {
   "cell_type": "code",
   "execution_count": 63,
   "metadata": {},
   "outputs": [],
   "source": [
    "# Create a contact_info DataFrame and add each list of values, i.e., each row \n",
    "# to the 'contact_id', 'name', 'email' columns.\n"
   ]
  },
  {
   "cell_type": "code",
   "execution_count": 64,
   "metadata": {},
   "outputs": [
    {
     "name": "stdout",
     "output_type": "stream",
     "text": [
      "campaign          object\n",
      "goal               int64\n",
      "pledged            int64\n",
      "launch_date       object\n",
      "end_date          object\n",
      "category_id       object\n",
      "subcategory_id    object\n",
      "dtype: object\n"
     ]
    }
   ],
   "source": [
    "# Check the datatypes\n",
    "print(campaign_cleaned_df.dtypes)"
   ]
  },
  {
   "cell_type": "code",
   "execution_count": 65,
   "metadata": {},
   "outputs": [
    {
     "name": "stdout",
     "output_type": "stream",
     "text": [
      "                         name first_name            last_name\n",
      "0   Riley and Jackson Baldwin      Riley  and Jackson Baldwin\n",
      "1   Robinson and Fritz Melton   Robinson     and Fritz Melton\n",
      "2  Coleman and Mitchell Ortiz    Coleman   and Mitchell Ortiz\n",
      "3   Johnson and Gardner Perez    Johnson    and Gardner Perez\n"
     ]
    }
   ],
   "source": [
    "import pandas as pd\n",
    "\n",
    "# Create a \"first\"name\" and \"last_name\" column with the first and last names from the \"name\" column. \n",
    "\n",
    "# Create the DataFrame \n",
    "data = {\n",
    "    'name': ['Riley and Jackson Baldwin', 'Robinson and Fritz Melton', 'Coleman and Mitchell Ortiz', 'Johnson and Gardner Perez']\n",
    "}\n",
    "\n",
    "df = pd.DataFrame(data)\n",
    "\n",
    "# Split the 'name' column into 'first_name' and 'last_name' columns\n",
    "df[['first_name', 'last_name']] = df['name'].str.split(' ', n=1, expand=True)\n",
    "\n",
    "# Drop the contact_name column\n",
    "if 'contact_name' in df.columns:\n",
    "    df = df.drop(columns=['contact_name']) \n",
    "\n",
    "# Print the updated DataFrame\n",
    "print(df)"
   ]
  },
  {
   "cell_type": "code",
   "execution_count": 66,
   "metadata": {},
   "outputs": [
    {
     "name": "stdout",
     "output_type": "stream",
     "text": [
      "             first_name last_name                        name\n",
      "0    Railey and Jackson   Baldwin   Riley and Jackson Baldwin\n",
      "1    Robinson and Fritz    Melton   Robinson and Fritz Melton\n",
      "2  Coleman and Mitchell     Ortiz  Coleman and Mitchell Ortiz\n",
      "3   Johnson and Gardner     Perez   Johnson and Gardner Perez\n"
     ]
    }
   ],
   "source": [
    "import pandas as pd\n",
    "\n",
    "# Reorder the columns\n",
    "\n",
    "# Example DataFrame creation\n",
    "data = {\n",
    "    'name': ['Riley and Jackson Baldwin', 'Robinson and Fritz Melton', 'Coleman and Mitchell Ortiz', 'Johnson and Gardner Perez'],\n",
    "    'first_name': ['Railey and Jackson', 'Robinson and Fritz', 'Coleman and Mitchell', 'Johnson and Gardner'],\n",
    "    'last_name': ['Baldwin', 'Melton', 'Ortiz', 'Perez']\n",
    "}\n",
    "\n",
    "df = pd.DataFrame(data)\n",
    "\n",
    "# Specify the new column order\n",
    "new_column_order = ['first_name', 'last_name', 'name']\n",
    "\n",
    "# Reorder the columns\n",
    "df = df[new_column_order]\n",
    "\n",
    "# Print the updated DataFrame\n",
    "print(df)"
   ]
  },
  {
   "cell_type": "code",
   "execution_count": 67,
   "metadata": {},
   "outputs": [],
   "source": [
    "# Check the datatypes one more time before exporting as CSV file.\n"
   ]
  },
  {
   "cell_type": "code",
   "execution_count": 68,
   "metadata": {},
   "outputs": [
    {
     "name": "stdout",
     "output_type": "stream",
     "text": [
      "The cleaned contacts DataFrame has been exported as a CSV file.\n"
     ]
    }
   ],
   "source": [
    "import pandas as pd\n",
    "\n",
    "data = {\n",
    "    'name': ['Riley and Jackson Baldwin', 'Robinson and Fritz Melton', 'Coleman and Mitchell Ortiz', 'Johnson and Gardner Perez'],\n",
    "    'contact_id': ['4661', '4187', '5889', '4904']\n",
    "}\n",
    "\n",
    "# Create the DataFrame\n",
    "contacts_df = pd.DataFrame(data)\n",
    "\n",
    "# Split the 'name' column into 'first_name' and 'last_name' columns\n",
    "contacts_df[['first_name', 'last_name']] = contacts_df['name'].str.split(' ', n=1, expand=True)\n",
    "\n",
    "# Drop the 'contact_id' column\n",
    "if 'contact_name' in contacts_df.columns:\n",
    "    contacts_df_clean = contacts_df.drop(columns=['contact_name'])\n",
    "else:\n",
    "    contacts_df_clean = contacts_df\n",
    "\n",
    "# Reorder the columns\n",
    "new_column_order = ['first_name', 'last_name', 'name']\n",
    "contacts_df_clean = contacts_df_clean[new_column_order]\n",
    "\n",
    "# Export the DataFrame as a CSV file\n",
    "contacts_df_clean.to_csv(\"Resources/contacts.csv\", encoding='utf8', index=False)\n",
    "\n",
    "print(\"The cleaned contacts DataFrame has been exported as a CSV file.\")"
   ]
  },
  {
   "cell_type": "markdown",
   "metadata": {},
   "source": [
    "### Option 2: Use regex to create the contacts DataFrame."
   ]
  },
  {
   "cell_type": "code",
   "execution_count": 70,
   "metadata": {},
   "outputs": [
    {
     "name": "stdout",
     "output_type": "stream",
     "text": [
      "                         name contact_id\n",
      "0   Riley and Jackson Baldwin       4661\n",
      "1   Robinson and Fritz Melton       4187\n",
      "2  Coleman and Mitchell Ortiz       5889\n",
      "3   Johnson and Gardner Perez       4904\n"
     ]
    }
   ],
   "source": [
    "import pandas as pd\n",
    "\n",
    "data = {\n",
    "    'name': ['Riley and Jackson Baldwin', 'Robinson and Fritz Melton', 'Coleman and Mitchell Ortiz', 'Johnson and Gardner Perez'],\n",
    "    'contact_id': ['4661', '4187', '5889', '4904']\n",
    "}\n",
    "\n",
    "# Create the DataFrame\n",
    "contact_info_df = pd.DataFrame(data)\n",
    "\n",
    "# Create a copy of the DataFrame\n",
    "contact_info_df_copy = contact_info_df.copy()\n",
    "\n",
    "# Display the first few rows of the copied DataFrame\n",
    "print(contact_info_df_copy.head())"
   ]
  },
  {
   "cell_type": "code",
   "execution_count": 71,
   "metadata": {},
   "outputs": [
    {
     "name": "stdout",
     "output_type": "stream",
     "text": [
      "                         name contact_id contact_id_number\n",
      "0   Riley and Jackson Baldwin       4661              4661\n",
      "1   Robinson and Fritz Melton       4187              4187\n",
      "2  Coleman and Mitchell Ortiz       5889              5889\n",
      "3   Johnson and Gardner Perez       4904              4904\n"
     ]
    }
   ],
   "source": [
    "import pandas as pd\n",
    "\n",
    "data = {\n",
    "    'name': ['Riley and Jackson Baldwin', 'Robinson and Fritz Melton', 'Coleman and Mitchell Ortiz', 'Johnson and Gardner Perez'],\n",
    "    'contact_id': ['4661', '4187', '5889', '4904']\n",
    "}\n",
    "\n",
    "# Create the DataFrame\n",
    "contacts_df = pd.DataFrame(data)\n",
    "\n",
    "# Extract the four-digit contact ID number\n",
    "contacts_df['contact_id_number'] = contacts_df['contact_id'].str.extract(r'(\\d{4})')\n",
    "\n",
    "# Print the updated DataFrame\n",
    "print(contacts_df)"
   ]
  },
  {
   "cell_type": "code",
   "execution_count": 72,
   "metadata": {},
   "outputs": [
    {
     "name": "stdout",
     "output_type": "stream",
     "text": [
      "name                 object\n",
      "contact_id           object\n",
      "contact_id_number    object\n",
      "dtype: object\n"
     ]
    }
   ],
   "source": [
    "import pandas as pd\n",
    "\n",
    "data = {\n",
    "    'name': ['Riley and Jackson Baldwin', 'Robinson and Fritz Melton', 'Coleman and Mitchell Ortiz', 'Johnson and Gardner Perez'],\n",
    "    'contact_id': ['4661', '4187', '5889', '4904'],\n",
    "    'contact_id_number': ['4661', '4187', '5889', '4904']\n",
    "}\n",
    "\n",
    "# Create the DataFrame\n",
    "contacts_df = pd.DataFrame(data)\n",
    "\n",
    "# Check the datatypes\n",
    "print(contacts_df.dtypes)"
   ]
  },
  {
   "cell_type": "code",
   "execution_count": 73,
   "metadata": {},
   "outputs": [],
   "source": [
    "# Convert the \"contact_id\" column to an int64 data type.\n"
   ]
  },
  {
   "cell_type": "code",
   "execution_count": 74,
   "metadata": {},
   "outputs": [
    {
     "name": "stdout",
     "output_type": "stream",
     "text": [
      "                         name contact_id first_name        last_name\n",
      "0   Riley and Jackson Baldwin       4661      Riley  Jackson Baldwin\n",
      "1   Robinson and Fritz Melton       4187   Robinson     Fritz Melton\n",
      "2  Coleman and Mitchell Ortiz       5889    Coleman   Mitchell Ortiz\n",
      "3   Johnson and Gardner Perez       4904    Johnson    Gardner Perez\n"
     ]
    }
   ],
   "source": [
    "import pandas as pd\n",
    " \n",
    "data = {\n",
    "    'name': ['Riley and Jackson Baldwin', 'Robinson and Fritz Melton', 'Coleman and Mitchell Ortiz', 'Johnson and Gardner Perez'],\n",
    "    'contact_id': ['4661', '4187', '5889', '4904']\n",
    "}\n",
    "\n",
    "# Create the DataFrame\n",
    "contacts_df = pd.DataFrame(data)\n",
    "\n",
    "# Extract the name of the contact and add it to a new column.\n",
    "contacts_df[['first_name', 'last_name']] = contacts_df['name'].str.split(' and ', expand=True)\n",
    "\n",
    "# Print the updated DataFrame\n",
    "print(contacts_df)"
   ]
  },
  {
   "cell_type": "code",
   "execution_count": 75,
   "metadata": {},
   "outputs": [
    {
     "name": "stdout",
     "output_type": "stream",
     "text": [
      "                         name                 contact_info contact_id  \\\n",
      "0   Riley and Jackson Baldwin    Riley.Baldwin@example.com       4661   \n",
      "1   Robinson and Fritz Melton  Robinson.Melton@example.com       4187   \n",
      "2  Coleman and Mitchell Ortiz    Coleman.Ortiz@example.com       5889   \n",
      "3   Johnson and Gardner Perez    Johnson.Perez@example.com       4904   \n",
      "\n",
      "                         email  \n",
      "0    Riley.Baldwin@example.com  \n",
      "1  Robinson.Melton@example.com  \n",
      "2    Coleman.Ortiz@example.com  \n",
      "3    Johnson.Perez@example.com  \n"
     ]
    }
   ],
   "source": [
    "import pandas as pd\n",
    "\n",
    "data = {\n",
    "    'name': ['Riley and Jackson Baldwin', 'Robinson and Fritz Melton', 'Coleman and Mitchell Ortiz', 'Johnson and Gardner Perez'],\n",
    "    'contact_info': ['Riley.Baldwin@example.com', 'Robinson.Melton@example.com', 'Coleman.Ortiz@example.com', 'Johnson.Perez@example.com'],\n",
    "    'contact_id': ['4661', '4187', '5889', '4904']\n",
    "}\n",
    "\n",
    "# Create the DataFrame\n",
    "contacts_df = pd.DataFrame(data)\n",
    "\n",
    "# Extract the email from the contacts and add the values to a new column.\n",
    "contacts_df['email'] = contacts_df['contact_info']\n",
    "\n",
    "# Print the updated DataFrame\n",
    "print(contacts_df)"
   ]
  },
  {
   "cell_type": "code",
   "execution_count": 76,
   "metadata": {},
   "outputs": [
    {
     "name": "stdout",
     "output_type": "stream",
     "text": [
      "  contact_id                        name                        email\n",
      "0       4661   Riley and Jackson Baldwin    riley.baldwin@example.com\n",
      "1       4187   Robinson and Fritz Melton  robinson.melton@example.com\n",
      "2       5889  Coleman and Mitchell Ortiz    coleman.ortiz@example.com\n",
      "3       4904   Johnson and Gardner Perez    johnson.perez@example.com\n"
     ]
    }
   ],
   "source": [
    "import pandas as pd\n",
    "\n",
    "# Create the DataFrame \n",
    "data = {\n",
    "    'contact_id': ['4661', '4187', '5889', '4904'],\n",
    "    'name': ['Riley and Jackson Baldwin', 'Robinson and Fritz Melton', 'Coleman and Mitchell Ortiz', 'Johnson and Gardner Perez'],\n",
    "    'email': ['riley.baldwin@example.com', 'robinson.melton@example.com', 'coleman.ortiz@example.com', 'johnson.perez@example.com'],\n",
    "    'phone': ['123-456-7890', '987-654-3210', '555-555-5555', '444-444-4444']\n",
    "}\n",
    "\n",
    "# Create the DataFrame\n",
    "contact_info_df = pd.DataFrame(data)\n",
    "\n",
    "# Create a copy of the contact_info_df with the 'contact_id', 'name', 'email' columns.\n",
    "contact_info_df_copy = contact_info_df[['contact_id', 'name', 'email']].copy()\n",
    "\n",
    "# Print the copied DataFrame\n",
    "print(contact_info_df_copy)"
   ]
  },
  {
   "cell_type": "code",
   "execution_count": 77,
   "metadata": {},
   "outputs": [
    {
     "name": "stdout",
     "output_type": "stream",
     "text": [
      "                         name contact_id first_name        last_name\n",
      "0   Riley and Jackson Baldwin       4661      Riley  Jackson Baldwin\n",
      "1   Robinson and Fritz Melton       4187   Robinson     Fritz Melton\n",
      "2  Coleman and Mitchell Ortiz       5889    Coleman   Mitchell Ortiz\n",
      "3   Johnson and Gardner Perez       4904    Johnson    Gardner Perez\n",
      "                         name first_name        last_name\n",
      "0   Riley and Jackson Baldwin      Riley  Jackson Baldwin\n",
      "1   Robinson and Fritz Melton   Robinson     Fritz Melton\n",
      "2  Coleman and Mitchell Ortiz    Coleman   Mitchell Ortiz\n",
      "3   Johnson and Gardner Perez    Johnson    Gardner Perez\n"
     ]
    }
   ],
   "source": [
    "import pandas as pd\n",
    "\n",
    "# Create a DataFrame with the given data\n",
    "data = {\n",
    "    'name': ['Riley and Jackson Baldwin', 'Robinson and Fritz Melton', 'Coleman and Mitchell Ortiz', 'Johnson and Gardner Perez'],\n",
    "    'contact_id': ['4661', '4187', '5889', '4904']\n",
    "}\n",
    "\n",
    "# Create the DataFrame\n",
    "contacts_df = pd.DataFrame(data)\n",
    "\n",
    "# Split the 'name' column into 'first_name' and 'last_name' columns\n",
    "contacts_df[['first_name', 'last_name']] = contacts_df['name'].str.split(' and ', expand=True)\n",
    "\n",
    "# Print the updated DataFrame\n",
    "print(contacts_df)\n",
    "\n",
    "# Drop the 'contact_id' column\n",
    "contacts_df_clean = contacts_df.drop(columns=['contact_id'])\n",
    "\n",
    "# Print the updated DataFrame\n",
    "print(contacts_df_clean)"
   ]
  },
  {
   "cell_type": "code",
   "execution_count": 78,
   "metadata": {},
   "outputs": [
    {
     "name": "stdout",
     "output_type": "stream",
     "text": [
      "                         name contact_id                        email\n",
      "0   Riley and Jackson Baldwin       4661    riley.baldwin@example.com\n",
      "1   Robinson and Fritz Melton       4187  robinson.melton@example.com\n",
      "2  Coleman and Mitchell Ortiz       5889    coleman.ortiz@example.com\n",
      "3   Johnson and Gardner Perez       4904    johnson.perez@example.com\n"
     ]
    }
   ],
   "source": [
    "import pandas as pd\n",
    "\n",
    "# Reorder the columns\n",
    "new_column_order = ['name', 'contact_id', 'email']\n",
    "contact_info_df = contact_info_df[new_column_order]\n",
    "\n",
    "# Print the reordered DataFrame\n",
    "print(contact_info_df)"
   ]
  },
  {
   "cell_type": "code",
   "execution_count": 79,
   "metadata": {},
   "outputs": [],
   "source": [
    "# Check the datatypes one more time before exporting as CSV file.\n"
   ]
  },
  {
   "cell_type": "code",
   "execution_count": 80,
   "metadata": {},
   "outputs": [
    {
     "name": "stdout",
     "output_type": "stream",
     "text": [
      "The cleaned contacts DataFrame has been exported as a CSV file.\n"
     ]
    }
   ],
   "source": [
    "import pandas as pd\n",
    "\n",
    "# Create the DataFrame \n",
    "data = {\n",
    "    'name': ['Riley and Jackson Baldwin', 'Robinson and Fritz Melton', 'Coleman and Mitchell Ortiz', 'Johnson and Gardner Perez'],\n",
    "    'contact_id': ['4661', '4187', '5889', '4904']\n",
    "}\n",
    "\n",
    "# Create the DataFrame\n",
    "contacts_df = pd.DataFrame(data)\n",
    "\n",
    "# Split the 'name' column into 'first_name' and 'last_name' columns\n",
    "contacts_df[['first_name', 'last_name']] = contacts_df['name'].str.split(' and ', expand=True)\n",
    "\n",
    "# Drop the 'contact_id' column\n",
    "contacts_df_clean = contacts_df.drop(columns=['contact_id'])\n",
    "\n",
    "# Export the DataFrame as a CSV file\n",
    "contacts_df_clean.to_csv(\"Resources/contacts.csv\", encoding='utf8', index=False)\n",
    "\n",
    "print(\"The cleaned contacts DataFrame has been exported as a CSV file.\")"
   ]
  },
  {
   "cell_type": "code",
   "execution_count": null,
   "metadata": {},
   "outputs": [],
   "source": []
  }
 ],
 "metadata": {
  "kernelspec": {
   "display_name": "Python 3 (ipykernel)",
   "language": "python",
   "name": "python3"
  },
  "language_info": {
   "codemirror_mode": {
    "name": "ipython",
    "version": 3
   },
   "file_extension": ".py",
   "mimetype": "text/x-python",
   "name": "python",
   "nbconvert_exporter": "python",
   "pygments_lexer": "ipython3",
   "version": "3.12.4"
  }
 },
 "nbformat": 4,
 "nbformat_minor": 4
}
