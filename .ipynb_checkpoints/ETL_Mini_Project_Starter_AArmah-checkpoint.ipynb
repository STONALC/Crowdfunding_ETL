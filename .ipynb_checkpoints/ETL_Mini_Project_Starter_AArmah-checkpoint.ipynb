{
 "cells": [
  {
   "cell_type": "code",
   "execution_count": 5,
   "metadata": {},
   "outputs": [],
   "source": [
    "# Import dependencies\n",
    "import pandas as pd\n",
    "import numpy as np\n",
    "pd.set_option('max_colwidth', 400)"
   ]
  },
  {
   "cell_type": "markdown",
   "metadata": {},
   "source": [
    "### Extract the crowdfunding.xlsx Data"
   ]
  },
  {
   "cell_type": "code",
   "execution_count": 7,
   "metadata": {},
   "outputs": [
    {
     "data": {
      "text/html": [
       "<div>\n",
       "<style scoped>\n",
       "    .dataframe tbody tr th:only-of-type {\n",
       "        vertical-align: middle;\n",
       "    }\n",
       "\n",
       "    .dataframe tbody tr th {\n",
       "        vertical-align: top;\n",
       "    }\n",
       "\n",
       "    .dataframe thead th {\n",
       "        text-align: right;\n",
       "    }\n",
       "</style>\n",
       "<table border=\"1\" class=\"dataframe\">\n",
       "  <thead>\n",
       "    <tr style=\"text-align: right;\">\n",
       "      <th></th>\n",
       "      <th>cf_id</th>\n",
       "      <th>contact_id</th>\n",
       "      <th>company_name</th>\n",
       "      <th>blurb</th>\n",
       "      <th>goal</th>\n",
       "      <th>pledged</th>\n",
       "      <th>outcome</th>\n",
       "      <th>backers_count</th>\n",
       "      <th>country</th>\n",
       "      <th>currency</th>\n",
       "      <th>launched_at</th>\n",
       "      <th>deadline</th>\n",
       "      <th>staff_pick</th>\n",
       "      <th>spotlight</th>\n",
       "      <th>category &amp; sub-category</th>\n",
       "    </tr>\n",
       "  </thead>\n",
       "  <tbody>\n",
       "    <tr>\n",
       "      <th>0</th>\n",
       "      <td>147</td>\n",
       "      <td>4661</td>\n",
       "      <td>Baldwin, Riley and Jackson</td>\n",
       "      <td>Pre-emptive tertiary standardization</td>\n",
       "      <td>100</td>\n",
       "      <td>0</td>\n",
       "      <td>failed</td>\n",
       "      <td>0</td>\n",
       "      <td>CA</td>\n",
       "      <td>CAD</td>\n",
       "      <td>1581573600</td>\n",
       "      <td>1614578400</td>\n",
       "      <td>False</td>\n",
       "      <td>False</td>\n",
       "      <td>food/food trucks</td>\n",
       "    </tr>\n",
       "    <tr>\n",
       "      <th>1</th>\n",
       "      <td>1621</td>\n",
       "      <td>3765</td>\n",
       "      <td>Odom Inc</td>\n",
       "      <td>Managed bottom-line architecture</td>\n",
       "      <td>1400</td>\n",
       "      <td>14560</td>\n",
       "      <td>successful</td>\n",
       "      <td>158</td>\n",
       "      <td>US</td>\n",
       "      <td>USD</td>\n",
       "      <td>1611554400</td>\n",
       "      <td>1621918800</td>\n",
       "      <td>False</td>\n",
       "      <td>True</td>\n",
       "      <td>music/rock</td>\n",
       "    </tr>\n",
       "    <tr>\n",
       "      <th>2</th>\n",
       "      <td>1812</td>\n",
       "      <td>4187</td>\n",
       "      <td>Melton, Robinson and Fritz</td>\n",
       "      <td>Function-based leadingedge pricing structure</td>\n",
       "      <td>108400</td>\n",
       "      <td>142523</td>\n",
       "      <td>successful</td>\n",
       "      <td>1425</td>\n",
       "      <td>AU</td>\n",
       "      <td>AUD</td>\n",
       "      <td>1608184800</td>\n",
       "      <td>1640844000</td>\n",
       "      <td>False</td>\n",
       "      <td>False</td>\n",
       "      <td>technology/web</td>\n",
       "    </tr>\n",
       "    <tr>\n",
       "      <th>3</th>\n",
       "      <td>2156</td>\n",
       "      <td>4941</td>\n",
       "      <td>Mcdonald, Gonzalez and Ross</td>\n",
       "      <td>Vision-oriented fresh-thinking conglomeration</td>\n",
       "      <td>4200</td>\n",
       "      <td>2477</td>\n",
       "      <td>failed</td>\n",
       "      <td>24</td>\n",
       "      <td>US</td>\n",
       "      <td>USD</td>\n",
       "      <td>1634792400</td>\n",
       "      <td>1642399200</td>\n",
       "      <td>False</td>\n",
       "      <td>False</td>\n",
       "      <td>music/rock</td>\n",
       "    </tr>\n",
       "    <tr>\n",
       "      <th>4</th>\n",
       "      <td>1365</td>\n",
       "      <td>2199</td>\n",
       "      <td>Larson-Little</td>\n",
       "      <td>Proactive foreground core</td>\n",
       "      <td>7600</td>\n",
       "      <td>5265</td>\n",
       "      <td>failed</td>\n",
       "      <td>53</td>\n",
       "      <td>US</td>\n",
       "      <td>USD</td>\n",
       "      <td>1608530400</td>\n",
       "      <td>1629694800</td>\n",
       "      <td>False</td>\n",
       "      <td>False</td>\n",
       "      <td>theater/plays</td>\n",
       "    </tr>\n",
       "  </tbody>\n",
       "</table>\n",
       "</div>"
      ],
      "text/plain": [
       "   cf_id  contact_id                 company_name  \\\n",
       "0    147        4661   Baldwin, Riley and Jackson   \n",
       "1   1621        3765                     Odom Inc   \n",
       "2   1812        4187   Melton, Robinson and Fritz   \n",
       "3   2156        4941  Mcdonald, Gonzalez and Ross   \n",
       "4   1365        2199                Larson-Little   \n",
       "\n",
       "                                           blurb    goal  pledged     outcome  \\\n",
       "0           Pre-emptive tertiary standardization     100        0      failed   \n",
       "1               Managed bottom-line architecture    1400    14560  successful   \n",
       "2   Function-based leadingedge pricing structure  108400   142523  successful   \n",
       "3  Vision-oriented fresh-thinking conglomeration    4200     2477      failed   \n",
       "4                      Proactive foreground core    7600     5265      failed   \n",
       "\n",
       "   backers_count country currency  launched_at    deadline  staff_pick  \\\n",
       "0              0      CA      CAD   1581573600  1614578400       False   \n",
       "1            158      US      USD   1611554400  1621918800       False   \n",
       "2           1425      AU      AUD   1608184800  1640844000       False   \n",
       "3             24      US      USD   1634792400  1642399200       False   \n",
       "4             53      US      USD   1608530400  1629694800       False   \n",
       "\n",
       "   spotlight category & sub-category  \n",
       "0      False        food/food trucks  \n",
       "1       True              music/rock  \n",
       "2      False          technology/web  \n",
       "3      False              music/rock  \n",
       "4      False           theater/plays  "
      ]
     },
     "execution_count": 7,
     "metadata": {},
     "output_type": "execute_result"
    }
   ],
   "source": [
    "import pandas as pd\n",
    "\n",
    "# Read the data into a Pandas DataFrame\n",
    "crowdfunding_info_df = pd.read_excel('Resources/crowdfunding.xlsx')\n",
    "crowdfunding_info_df.head()"
   ]
  },
  {
   "cell_type": "code",
   "execution_count": 8,
   "metadata": {},
   "outputs": [
    {
     "name": "stdout",
     "output_type": "stream",
     "text": [
      "             cf_id   contact_id           goal        pledged  backers_count  \\\n",
      "count  1000.000000  1000.000000    1000.000000    1000.000000    1000.000000   \n",
      "mean   1585.743000  3751.434000   43983.100000   42748.055000     727.005000   \n",
      "std     926.944534  1431.743284   58962.425595   57415.481551    1137.723135   \n",
      "min      23.000000  1235.000000     100.000000       0.000000       0.000000   \n",
      "25%     758.750000  2502.750000    4200.000000    5911.250000      86.000000   \n",
      "50%    1571.500000  3706.500000    8300.000000   11950.000000     184.500000   \n",
      "75%    2402.250000  4994.250000   80625.000000   66294.250000     923.750000   \n",
      "max    3209.000000  6234.000000  199200.000000  199110.000000    7295.000000   \n",
      "\n",
      "        launched_at      deadline  \n",
      "count  1.000000e+03  1.000000e+03  \n",
      "mean   1.610955e+09  1.627459e+09  \n",
      "std    1.330154e+07  9.072194e+06  \n",
      "min    1.579068e+09  1.609913e+09  \n",
      "25%    1.601507e+09  1.619672e+09  \n",
      "50%    1.611554e+09  1.627232e+09  \n",
      "75%    1.620018e+09  1.635224e+09  \n",
      "max    1.643695e+09  1.645596e+09  \n"
     ]
    }
   ],
   "source": [
    "# Get a brief summary of the crowdfunding_info DataFrame.\n",
    "summary = crowdfunding_info_df.describe()\n",
    "print(summary)"
   ]
  },
  {
   "cell_type": "markdown",
   "metadata": {},
   "source": [
    "### Create the Category and Subcategory DataFrames\n",
    "---\n",
    "**Create a Category DataFrame that has the following columns:**\n",
    "- A \"category_id\" column that is numbered sequential form 1 to the length of the number of unique categories.\n",
    "- A \"category\" column that has only the categories.\n",
    "\n",
    "Export the DataFrame as a `category.csv` CSV file.\n",
    "\n",
    "**Create a SubCategory DataFrame that has the following columns:**\n",
    "- A \"subcategory_id\" column that is numbered sequential form 1 to the length of the number of unique subcategories.\n",
    "- A \"subcategory\" column that has only the subcategories. \n",
    "\n",
    "Export the DataFrame as a `subcategory.csv` CSV file."
   ]
  },
  {
   "cell_type": "code",
   "execution_count": 10,
   "metadata": {},
   "outputs": [
    {
     "name": "stdout",
     "output_type": "stream",
     "text": [
      "Index(['cf_id', 'contact_id', 'company_name', 'blurb', 'goal', 'pledged',\n",
      "       'outcome', 'backers_count', 'country', 'currency', 'launched_at',\n",
      "       'deadline', 'staff_pick', 'spotlight', 'category & sub-category'],\n",
      "      dtype='object')\n"
     ]
    }
   ],
   "source": [
    "import pandas as pd \n",
    "# Read the Excel file \n",
    "crowdfunding_info_df = pd.read_excel('Resources/crowdfunding.xlsx')\n",
    "\n",
    "# Get the crowdfunding_info_df columns.\n",
    "columns = crowdfunding_info_df.columns \n",
    "print(columns)"
   ]
  },
  {
   "cell_type": "code",
   "execution_count": 11,
   "metadata": {},
   "outputs": [
    {
     "name": "stdout",
     "output_type": "stream",
     "text": [
      "     category subcategory\n",
      "0        food  food truck\n",
      "1       music        rock\n",
      "2  technology         web\n",
      "3       music        rock\n",
      "4     theater        play\n"
     ]
    }
   ],
   "source": [
    "import pandas as pd\n",
    "\n",
    "# Define the new category values and the sub category values\n",
    "new_category_values = ['food', 'music', 'technology', 'music', 'theater']\n",
    "new_subcategory_values = ['food truck', 'rock', 'web', 'rock', 'play']\n",
    "\n",
    "# Create a new data frame or load an existing one\n",
    "crowdfunding_info_df = pd.DataFrame()\n",
    "\n",
    "# Assign the category and subcategory values to category and subcategory columns.\n",
    "crowdfunding_info_df['category'] = new_category_values \n",
    "crowdfunding_info_df['subcategory'] = new_subcategory_values\n",
    "\n",
    "print(crowdfunding_info_df)"
   ]
  },
  {
   "cell_type": "code",
   "execution_count": 12,
   "metadata": {},
   "outputs": [
    {
     "name": "stdout",
     "output_type": "stream",
     "text": [
      "categories ['food', 'music', 'technology', 'theater']\n",
      "subcategories ['food truck', 'rock', 'web', 'play']\n"
     ]
    }
   ],
   "source": [
    "# Get the unique categories and subcategories in separate lists.\n",
    "unique_categories = crowdfunding_info_df['category'].unique().tolist() \n",
    "unique_subcategories = crowdfunding_info_df['subcategory'].unique().tolist() \n",
    "\n",
    "print(\"categories\", unique_categories)\n",
    "print(\"subcategories\", unique_subcategories)"
   ]
  },
  {
   "cell_type": "code",
   "execution_count": 13,
   "metadata": {},
   "outputs": [
    {
     "name": "stdout",
     "output_type": "stream",
     "text": [
      "number of distinct categories: 4\n",
      "number of distinct subcategories: 4\n"
     ]
    }
   ],
   "source": [
    "# Define categories and subcategories \n",
    "categories = unique_categories \n",
    "subcategories = unique_subcategories\n",
    "\n",
    "# Get the number of distinct values in the categories and subcategories lists.\n",
    "print(\"number of distinct categories:\", len(categories))\n",
    "print(\"number of distinct subcategories:\", len(subcategories))"
   ]
  },
  {
   "cell_type": "code",
   "execution_count": 14,
   "metadata": {},
   "outputs": [
    {
     "name": "stdout",
     "output_type": "stream",
     "text": [
      "[1 2 3 4 5 6 7 8 9]\n",
      "[ 1  2  3  4  5  6  7  8  9 10 11 12 13 14 15 16 17 18 19 20 21 22 23 24]\n"
     ]
    }
   ],
   "source": [
    "import numpy as np\n",
    "\n",
    "# Create numpy arrays from 1-9 for the categories and 1-24 for the subcategories.\n",
    "category_ids = np.arange(1, 10)\n",
    "subcategory_ids = np.arange(1, 25)\n",
    "\n",
    "print(category_ids)\n",
    "print(subcategory_ids)"
   ]
  },
  {
   "cell_type": "code",
   "execution_count": 15,
   "metadata": {},
   "outputs": [
    {
     "name": "stdout",
     "output_type": "stream",
     "text": [
      "['cat1', 'cat2', 'cat3', 'cat4', 'cat5', 'cat6', 'cat7', 'cat8', 'cat9']\n",
      "['subcat1', 'subcat2', 'subcat3', 'subcat4', 'subcat5', 'subcat6', 'subcat7', 'subcat8', 'subcat9', 'subcat10', 'subcat11', 'subcat12', 'subcat13', 'subcat14', 'subcat15', 'subcat16', 'subcat17', 'subcat18', 'subcat19', 'subcat20', 'subcat21', 'subcat22', 'subcat23', 'subcat24']\n"
     ]
    }
   ],
   "source": [
    "# Create numpy arrays from 1-9 for the categories and 1-24 for the subcategories.\n",
    "category_ids = np.arange(1, 10)\n",
    "subcategory_ids = np.arange(1, 25)\n",
    "\n",
    "# Use a list comprehension to add \"cat\" to each category_id\n",
    "cat_ids = [\"cat\" + str(id) for id in category_ids]\n",
    "\n",
    "# Use a list comprehension to add \"subcat\" to each subcategory_id\n",
    "scat_ids = [\"subcat\" + str(id) for id in subcategory_ids]\n",
    "\n",
    "print(cat_ids)\n",
    "print(scat_ids)"
   ]
  },
  {
   "cell_type": "code",
   "execution_count": 16,
   "metadata": {},
   "outputs": [
    {
     "name": "stdout",
     "output_type": "stream",
     "text": [
      "   category_id category_name\n",
      "0            1          food\n",
      "1            2         music\n",
      "2            3    technology\n",
      "3            4         music\n",
      "4            5       theater\n",
      "   subcategory_id subcategory_name\n",
      "0               1       food truck\n",
      "1               2             rock\n",
      "2               3              web\n",
      "3               4             rock\n",
      "4               5             play\n"
     ]
    }
   ],
   "source": [
    "import pandas as pd\n",
    "\n",
    "category_name = ['food', 'music', 'technology', 'music', 'theater']\n",
    "category_ids = [1, 2, 3, 4, 5]  \n",
    "cat1 = 1\n",
    "cat2 = 2\n",
    "cat3 = 3\n",
    "cat4 = 4\n",
    "cat5 = 5\n",
    "# Create a category DataFrame with the category_id array as the category_id and categories list as the category name.\n",
    "category_df = pd.DataFrame({'category_id': category_ids, 'category_name': category_name})\n",
    "\n",
    "# Define subcategory_ids and subcategory_name before creating the DataFrame\n",
    "subcat1 = 1\n",
    "subcat2 = 2\n",
    "subcat3 = 3\n",
    "subcat4 = 4\n",
    "subcat5 = 5\n",
    "subcategory_ids = [subcat1, subcat2, subcat3, subcat4, subcat5]\n",
    "subcategory_names = ['food truck', 'rock', 'web', 'rock', 'play']  \n",
    "\n",
    "subcategory_df = pd.DataFrame({'subcategory_id': subcategory_ids, 'subcategory_name': subcategory_names})\n",
    "\n",
    "print(category_df)\n",
    "print(subcategory_df)"
   ]
  },
  {
   "cell_type": "code",
   "execution_count": 17,
   "metadata": {},
   "outputs": [
    {
     "data": {
      "text/html": [
       "<div>\n",
       "<style scoped>\n",
       "    .dataframe tbody tr th:only-of-type {\n",
       "        vertical-align: middle;\n",
       "    }\n",
       "\n",
       "    .dataframe tbody tr th {\n",
       "        vertical-align: top;\n",
       "    }\n",
       "\n",
       "    .dataframe thead th {\n",
       "        text-align: right;\n",
       "    }\n",
       "</style>\n",
       "<table border=\"1\" class=\"dataframe\">\n",
       "  <thead>\n",
       "    <tr style=\"text-align: right;\">\n",
       "      <th></th>\n",
       "      <th>category_id</th>\n",
       "      <th>category_name</th>\n",
       "    </tr>\n",
       "  </thead>\n",
       "  <tbody>\n",
       "    <tr>\n",
       "      <th>0</th>\n",
       "      <td>1</td>\n",
       "      <td>food</td>\n",
       "    </tr>\n",
       "    <tr>\n",
       "      <th>1</th>\n",
       "      <td>2</td>\n",
       "      <td>music</td>\n",
       "    </tr>\n",
       "    <tr>\n",
       "      <th>2</th>\n",
       "      <td>3</td>\n",
       "      <td>technology</td>\n",
       "    </tr>\n",
       "    <tr>\n",
       "      <th>3</th>\n",
       "      <td>4</td>\n",
       "      <td>music</td>\n",
       "    </tr>\n",
       "    <tr>\n",
       "      <th>4</th>\n",
       "      <td>5</td>\n",
       "      <td>theater</td>\n",
       "    </tr>\n",
       "  </tbody>\n",
       "</table>\n",
       "</div>"
      ],
      "text/plain": [
       "   category_id category_name\n",
       "0            1          food\n",
       "1            2         music\n",
       "2            3    technology\n",
       "3            4         music\n",
       "4            5       theater"
      ]
     },
     "execution_count": 17,
     "metadata": {},
     "output_type": "execute_result"
    }
   ],
   "source": [
    "category_df"
   ]
  },
  {
   "cell_type": "code",
   "execution_count": 18,
   "metadata": {},
   "outputs": [
    {
     "data": {
      "text/html": [
       "<div>\n",
       "<style scoped>\n",
       "    .dataframe tbody tr th:only-of-type {\n",
       "        vertical-align: middle;\n",
       "    }\n",
       "\n",
       "    .dataframe tbody tr th {\n",
       "        vertical-align: top;\n",
       "    }\n",
       "\n",
       "    .dataframe thead th {\n",
       "        text-align: right;\n",
       "    }\n",
       "</style>\n",
       "<table border=\"1\" class=\"dataframe\">\n",
       "  <thead>\n",
       "    <tr style=\"text-align: right;\">\n",
       "      <th></th>\n",
       "      <th>subcategory_id</th>\n",
       "      <th>subcategory_name</th>\n",
       "    </tr>\n",
       "  </thead>\n",
       "  <tbody>\n",
       "    <tr>\n",
       "      <th>0</th>\n",
       "      <td>1</td>\n",
       "      <td>food truck</td>\n",
       "    </tr>\n",
       "    <tr>\n",
       "      <th>1</th>\n",
       "      <td>2</td>\n",
       "      <td>rock</td>\n",
       "    </tr>\n",
       "    <tr>\n",
       "      <th>2</th>\n",
       "      <td>3</td>\n",
       "      <td>web</td>\n",
       "    </tr>\n",
       "    <tr>\n",
       "      <th>3</th>\n",
       "      <td>4</td>\n",
       "      <td>rock</td>\n",
       "    </tr>\n",
       "    <tr>\n",
       "      <th>4</th>\n",
       "      <td>5</td>\n",
       "      <td>play</td>\n",
       "    </tr>\n",
       "  </tbody>\n",
       "</table>\n",
       "</div>"
      ],
      "text/plain": [
       "   subcategory_id subcategory_name\n",
       "0               1       food truck\n",
       "1               2             rock\n",
       "2               3              web\n",
       "3               4             rock\n",
       "4               5             play"
      ]
     },
     "execution_count": 18,
     "metadata": {},
     "output_type": "execute_result"
    }
   ],
   "source": [
    "subcategory_df"
   ]
  },
  {
   "cell_type": "code",
   "execution_count": 19,
   "metadata": {},
   "outputs": [
    {
     "name": "stdout",
     "output_type": "stream",
     "text": [
      "   category_id category_name\n",
      "0            1          food\n",
      "1            2         music\n",
      "2            3    technology\n",
      "3            4         music\n",
      "4            5       theater\n",
      "   subcategory_id subcategory_name\n",
      "0               1       food truck\n",
      "1               2             rock\n",
      "2               3              web\n",
      "3               4             rock\n",
      "4               5             play\n"
     ]
    }
   ],
   "source": [
    "import pandas as pd\n",
    "\n",
    "category_name = ['food', 'music', 'technology', 'music', 'theater']\n",
    "category_ids = [1, 2, 3, 4, 5]  \n",
    "\n",
    "# Create a category DataFrame with the category_id array as the category_id and categories list as the category name.\n",
    "category_df = pd.DataFrame({'category_id': category_ids, 'category_name': category_name})\n",
    "\n",
    "# Define subcategory_ids and subcategory_name before creating the DataFrame\n",
    "subcategory_ids = [1, 2, 3, 4, 5]\n",
    "subcategory_names = ['food truck', 'rock', 'web', 'rock', 'play']  \n",
    "\n",
    "subcategory_df = pd.DataFrame({'subcategory_id': subcategory_ids, 'subcategory_name': subcategory_names})\n",
    "\n",
    "# Export categories_df and subcategories_df as CSV files.\n",
    "category_df.to_csv(\"Resources/category.csv\", index=False)\n",
    "subcategory_df.to_csv(\"Resources/subcategory.csv\", index=False)\n",
    "\n",
    "print(category_df)\n",
    "print(subcategory_df)"
   ]
  },
  {
   "cell_type": "markdown",
   "metadata": {},
   "source": [
    "### Campaign DataFrame\n",
    "----\n",
    "**Create a Campaign DataFrame that has the following columns:**\n",
    "- The \"cf_id\" column.\n",
    "- The \"contact_id\" column.\n",
    "- The “company_name” column.\n",
    "- The \"blurb\" column is renamed as \"description.\"\n",
    "- The \"goal\" column.\n",
    "- The \"goal\" column is converted to a `float` datatype.\n",
    "- The \"pledged\" column is converted to a `float` datatype. \n",
    "- The \"backers_count\" column. \n",
    "- The \"country\" column.\n",
    "- The \"currency\" column.\n",
    "- The \"launched_at\" column is renamed as \"launch_date\" and converted to a datetime format. \n",
    "- The \"deadline\" column is renamed as \"end_date\" and converted to a datetime format.\n",
    "- The \"category_id\" with the unique number matching the “category_id” from the category DataFrame. \n",
    "- The \"subcategory_id\" with the unique number matching the “subcategory_id” from the subcategory DataFrame.\n",
    "- And, create a column that contains the unique four-digit contact ID number from the `contact.xlsx` file.\n",
    " \n",
    "\n",
    "Then export the DataFrame as a `campaign.csv` CSV file.\n"
   ]
  },
  {
   "cell_type": "code",
   "execution_count": 21,
   "metadata": {},
   "outputs": [
    {
     "data": {
      "text/html": [
       "<div>\n",
       "<style scoped>\n",
       "    .dataframe tbody tr th:only-of-type {\n",
       "        vertical-align: middle;\n",
       "    }\n",
       "\n",
       "    .dataframe tbody tr th {\n",
       "        vertical-align: top;\n",
       "    }\n",
       "\n",
       "    .dataframe thead th {\n",
       "        text-align: right;\n",
       "    }\n",
       "</style>\n",
       "<table border=\"1\" class=\"dataframe\">\n",
       "  <thead>\n",
       "    <tr style=\"text-align: right;\">\n",
       "      <th></th>\n",
       "      <th>category</th>\n",
       "      <th>subcategory</th>\n",
       "    </tr>\n",
       "  </thead>\n",
       "  <tbody>\n",
       "    <tr>\n",
       "      <th>0</th>\n",
       "      <td>food</td>\n",
       "      <td>food truck</td>\n",
       "    </tr>\n",
       "    <tr>\n",
       "      <th>1</th>\n",
       "      <td>music</td>\n",
       "      <td>rock</td>\n",
       "    </tr>\n",
       "    <tr>\n",
       "      <th>2</th>\n",
       "      <td>technology</td>\n",
       "      <td>web</td>\n",
       "    </tr>\n",
       "    <tr>\n",
       "      <th>3</th>\n",
       "      <td>music</td>\n",
       "      <td>rock</td>\n",
       "    </tr>\n",
       "    <tr>\n",
       "      <th>4</th>\n",
       "      <td>theater</td>\n",
       "      <td>play</td>\n",
       "    </tr>\n",
       "  </tbody>\n",
       "</table>\n",
       "</div>"
      ],
      "text/plain": [
       "     category subcategory\n",
       "0        food  food truck\n",
       "1       music        rock\n",
       "2  technology         web\n",
       "3       music        rock\n",
       "4     theater        play"
      ]
     },
     "execution_count": 21,
     "metadata": {},
     "output_type": "execute_result"
    }
   ],
   "source": [
    "# Create a copy of the crowdfunding_info_df DataFrame name campaign_df. \n",
    "campaign_df = crowdfunding_info_df.copy()\n",
    "campaign_df.head()"
   ]
  },
  {
   "cell_type": "code",
   "execution_count": 22,
   "metadata": {},
   "outputs": [
    {
     "name": "stdout",
     "output_type": "stream",
     "text": [
      "                                     description launch_date    end_date\n",
      "0           pre-emptive tertiary standardization  2023-01-01  2023-12-31\n",
      "1               managed bottom-line architecture  2023-02-01  2023-11-30\n",
      "2   function-based leadingedge pricing structure  2023-03-01  2023-10-31\n",
      "3  vision-oriented fresh-thinking conglomeration  2023-04-01  2023-09-30\n"
     ]
    }
   ],
   "source": [
    "# Rename the blurb, launched_at, and deadline columns.\n",
    "import pandas as pd\n",
    "\n",
    "# Create DataFrame with \"blurb\", \"launched_at\", and \"deadline\" columns\n",
    "data = {\n",
    "    'blurb': ['pre-emptive tertiary standardization', 'managed bottom-line architecture', 'function-based leadingedge pricing structure', 'vision-oriented fresh-thinking conglomeration'],\n",
    "    'launched_at': ['2023-01-01', '2023-02-01', '2023-03-01', '2023-04-01'],\n",
    "    'deadline': ['2023-12-31', '2023-11-30', '2023-10-31', '2023-09-30']\n",
    "}\n",
    "df = pd.DataFrame(data)\n",
    "\n",
    "# Rename the columns\n",
    "df.rename(columns={'blurb': 'description', 'launched_at': 'launch_date', 'deadline': 'end_date'}, inplace=True)\n",
    "\n",
    "print(df)"
   ]
  },
  {
   "cell_type": "code",
   "execution_count": 23,
   "metadata": {},
   "outputs": [
    {
     "name": "stdout",
     "output_type": "stream",
     "text": [
      "goal       float64\n",
      "pledged    float64\n",
      "dtype: object\n"
     ]
    }
   ],
   "source": [
    "import pandas as pd\n",
    "\n",
    "# Create DataFrame with \"goal\" and \"pledged\" columns\n",
    "data = {\n",
    "    'goal': ['7800.0', '9800.0', '3100', '9800'],\n",
    "    'pledged': ['6839.0', '11091.0', '13223.0', '7608.0']\n",
    "}\n",
    "df = pd.DataFrame(data)\n",
    "\n",
    "# Convert the \"goal\" and \"pledged\" columns to a float data type\n",
    "df['goal'] = df['goal'].astype(float)\n",
    "df['pledged'] = df['pledged'].astype(float)\n",
    "\n",
    "print(df.dtypes)"
   ]
  },
  {
   "cell_type": "code",
   "execution_count": 24,
   "metadata": {},
   "outputs": [
    {
     "name": "stdout",
     "output_type": "stream",
     "text": [
      "goal       float64\n",
      "pledged    float64\n",
      "dtype: object\n"
     ]
    }
   ],
   "source": [
    "import pandas as pd\n",
    "\n",
    "# Create DataFrame with \"goal\" and \"pledged\" columns\n",
    "data = {\n",
    "    'goal': ['7800.0', '9800.0', '3100', '9800'],\n",
    "    'pledged': ['6839.0', '11091.0', '13223.0', '7608.0']\n",
    "}\n",
    "df = pd.DataFrame(data)\n",
    "\n",
    "# Convert the \"goal\" and \"pledged\" columns to a float data type\n",
    "df['goal'] = df['goal'].astype(float)\n",
    "df['pledged'] = df['pledged'].astype(float)\n",
    "\n",
    "# Check the datatypes \n",
    "print(df.dtypes)"
   ]
  },
  {
   "cell_type": "code",
   "execution_count": 25,
   "metadata": {},
   "outputs": [
    {
     "name": "stdout",
     "output_type": "stream",
     "text": [
      "launched_date    datetime64[ns]\n",
      "end_date         datetime64[ns]\n",
      "dtype: object\n"
     ]
    }
   ],
   "source": [
    "import pandas as pd\n",
    "from datetime import datetime as dt\n",
    "\n",
    "# Create a DataFrame with \"launched_date\" and \"end_date\" columns\n",
    "data = {\n",
    "    'launched_date': ['2021-06-09', '2020-12-09', '2020-06-14', '2021-07-03'],\n",
    "    'end_date': ['2021-06-18', '2021-05-26', '2021-02-09', '2021-07-08']\n",
    "}\n",
    "df = pd.DataFrame(data)\n",
    "\n",
    "# Format the launched_date and end_date columns to datetime format\n",
    "from datetime import datetime as dt\n",
    "df['launched_date'] = pd.to_datetime(df['launched_date'])\n",
    "df['end_date'] = pd.to_datetime(df['end_date'])\n",
    "\n",
    "# Check the datatypes of the columns\n",
    "print(df.dtypes)"
   ]
  },
  {
   "cell_type": "code",
   "execution_count": 26,
   "metadata": {},
   "outputs": [
    {
     "name": "stdout",
     "output_type": "stream",
     "text": [
      "   campaign_id      category subcategory category_name subcategory_name\n",
      "0          990  film & video       drama  film & video            drama\n",
      "1          991         music        rock         music             rock\n",
      "2          993   photography       drama   photography            drama\n"
     ]
    }
   ],
   "source": [
    "import pandas as pd\n",
    "\n",
    "# Create the DataFrame\n",
    "campaign_df = pd.DataFrame({\n",
    "    'campaign_id': [990, 991, 992, 993],\n",
    "    'category': ['film & video', 'music', 'film & video', 'photography'],\n",
    "    'subcategory': ['drama', 'rock', 'photography book', 'drama']\n",
    "})\n",
    "\n",
    "category_df = pd.DataFrame({\n",
    "    'category': ['film & video', 'music', 'photography'],\n",
    "    'category_name': ['film & video', 'music', 'photography']\n",
    "})\n",
    "\n",
    "subcategory_df = pd.DataFrame({\n",
    "    'subcategory': ['drama', 'rock', 'photography'],\n",
    "    'subcategory_name': ['drama', 'rock', 'photography']\n",
    "})\n",
    "\n",
    "# Merge the campaign_df with the category_df on the \"category\" column and \n",
    "# the subcategory_df on the \"subcategory\" column.\n",
    "merged_df = campaign_df.merge(category_df, on='category').merge(subcategory_df, on='subcategory')\n",
    "\n",
    "# Display the last 10 rows of the merged DataFrame\n",
    "print(merged_df.tail(10))"
   ]
  },
  {
   "cell_type": "code",
   "execution_count": 27,
   "metadata": {},
   "outputs": [
    {
     "name": "stdout",
     "output_type": "stream",
     "text": [
      "   campaign_id      category subcategory\n",
      "0          990  film & video       drama\n",
      "1          991         music        rock\n",
      "2          993   photography       drama\n"
     ]
    }
   ],
   "source": [
    "import pandas as pd\n",
    "\n",
    "# Create the merged DataFrame columns\n",
    "data = {\n",
    "    'campaign_id': [990, 991, 993],\n",
    "    'category': ['film & video', 'music', 'photography'],\n",
    "    'subcategory': ['drama', 'rock', 'drama'],\n",
    "    'category_name': ['film & video', 'music', 'photography'],\n",
    "    'subcategory_name': ['drama', 'rock', 'photography']\n",
    "}\n",
    "df = pd.DataFrame(data)\n",
    "\n",
    "# Drop unwanted columns \n",
    "cols_to_drop = ['category_name', 'subcategory_name']\n",
    "actual_cols_to_drop = [col for col in cols_to_drop if col in df.columns]\n",
    "\n",
    "if actual_cols_to_drop:\n",
    "    df.drop(actual_cols_to_drop, axis=1, inplace=True)\n",
    "\n",
    "print(df)"
   ]
  },
  {
   "cell_type": "code",
   "execution_count": 28,
   "metadata": {},
   "outputs": [],
   "source": [
    "import pandas as pd\n",
    "\n",
    "# Create a DataFrame\n",
    "data = {\n",
    "    'Category': ['A', 'B', 'C'],\n",
    "    'Count': [10, 20, 30]\n",
    "}\n",
    "\n",
    "# Create a DataFrame\n",
    "campaign_cleaned = pd.DataFrame(data)\n",
    "\n",
    "# Export the DataFrame as a CSV file\n",
    "campaign_cleaned.to_csv(\"Resources/campaign.csv\", index=False)"
   ]
  },
  {
   "cell_type": "markdown",
   "metadata": {},
   "source": [
    "### Extract the contacts.xlsx Data."
   ]
  },
  {
   "cell_type": "code",
   "execution_count": 30,
   "metadata": {},
   "outputs": [
    {
     "data": {
      "text/html": [
       "<div>\n",
       "<style scoped>\n",
       "    .dataframe tbody tr th:only-of-type {\n",
       "        vertical-align: middle;\n",
       "    }\n",
       "\n",
       "    .dataframe tbody tr th {\n",
       "        vertical-align: top;\n",
       "    }\n",
       "\n",
       "    .dataframe thead th {\n",
       "        text-align: right;\n",
       "    }\n",
       "</style>\n",
       "<table border=\"1\" class=\"dataframe\">\n",
       "  <thead>\n",
       "    <tr style=\"text-align: right;\">\n",
       "      <th></th>\n",
       "      <th></th>\n",
       "    </tr>\n",
       "  </thead>\n",
       "  <tbody>\n",
       "    <tr>\n",
       "      <th>0</th>\n",
       "      <td>contact_info</td>\n",
       "    </tr>\n",
       "    <tr>\n",
       "      <th>1</th>\n",
       "      <td>{\"contact_id\": 4661, \"name\": \"Cecilia Velasco\", \"email\": \"cecilia.velasco@rodrigues.fr\"}</td>\n",
       "    </tr>\n",
       "    <tr>\n",
       "      <th>2</th>\n",
       "      <td>{\"contact_id\": 3765, \"name\": \"Mariana Ellis\", \"email\": \"mariana.ellis@rossi.org\"}</td>\n",
       "    </tr>\n",
       "    <tr>\n",
       "      <th>3</th>\n",
       "      <td>{\"contact_id\": 4187, \"name\": \"Sofie Woods\", \"email\": \"sofie.woods@riviere.com\"}</td>\n",
       "    </tr>\n",
       "    <tr>\n",
       "      <th>4</th>\n",
       "      <td>{\"contact_id\": 4941, \"name\": \"Jeanette Iannotti\", \"email\": \"jeanette.iannotti@yahoo.com\"}</td>\n",
       "    </tr>\n",
       "  </tbody>\n",
       "</table>\n",
       "</div>"
      ],
      "text/plain": [
       "                                                                                            \n",
       "0                                                                               contact_info\n",
       "1   {\"contact_id\": 4661, \"name\": \"Cecilia Velasco\", \"email\": \"cecilia.velasco@rodrigues.fr\"}\n",
       "2          {\"contact_id\": 3765, \"name\": \"Mariana Ellis\", \"email\": \"mariana.ellis@rossi.org\"}\n",
       "3            {\"contact_id\": 4187, \"name\": \"Sofie Woods\", \"email\": \"sofie.woods@riviere.com\"}\n",
       "4  {\"contact_id\": 4941, \"name\": \"Jeanette Iannotti\", \"email\": \"jeanette.iannotti@yahoo.com\"}"
      ]
     },
     "execution_count": 30,
     "metadata": {},
     "output_type": "execute_result"
    }
   ],
   "source": [
    "# Read the data into a Pandas DataFrame. Use the `header=2` parameter when reading in the data.\n",
    "contact_info_df = pd.read_excel('Resources/contacts.xlsx', header=2)\n",
    "contact_info_df.head()"
   ]
  },
  {
   "cell_type": "markdown",
   "metadata": {},
   "source": [
    "### Create the Contacts DataFrame \n",
    "---\n",
    "**Create a Contacts DataFrame that has the following columns:**\n",
    "- A column named \"contact_id\"  that contains the unique number of the contact person.\n",
    "- A column named \"first_name\" that contains the first name of the contact person.\n",
    "- A column named \"last_name\" that contains the first name of the contact person.\n",
    "- A column named \"email\" that contains the email address of the contact person\n",
    "\n",
    "Then export the DataFrame as a `contacts.csv` CSV file."
   ]
  },
  {
   "cell_type": "markdown",
   "metadata": {},
   "source": [
    "### Option 1: Use Pandas to create the contacts DataFrame."
   ]
  },
  {
   "cell_type": "code",
   "execution_count": 33,
   "metadata": {},
   "outputs": [
    {
     "name": "stdout",
     "output_type": "stream",
     "text": [
      "[]\n"
     ]
    }
   ],
   "source": [
    "# Iterate through the contact_info_df and convert each row to a dictionary.\n",
    "import json\n",
    "dict_values = []\n",
    "\n",
    "\n",
    "# Print out the list of values for each row.\n",
    "print(dict_values)"
   ]
  },
  {
   "cell_type": "code",
   "execution_count": 34,
   "metadata": {},
   "outputs": [
    {
     "name": "stdout",
     "output_type": "stream",
     "text": [
      "   contact_id     company_name                     email\n",
      "0        5500    Ortiz-Roberts      john.doe@example.com\n",
      "1        3494      Ramirez LLC    jane.smith@example.com\n",
      "2        3924       Morrow Inc     sam.brown@example.com\n",
      "3        3521  Erickson-Rogers  erick.rogers@example.com\n"
     ]
    }
   ],
   "source": [
    "import pandas as pd\n",
    "\n",
    "# Create a contact_info DataFrame and add each list of values, i.e., each row \n",
    "# to the 'contact_id', 'name', 'email' columns.\n",
    "\n",
    "# Sample lists of values\n",
    "contact_ids = [5500, 3494, 3924, 3521]\n",
    "company_names = ['Ortiz-Roberts', 'Ramirez LLC', 'Morrow Inc', 'Erickson-Rogers']\n",
    "emails = ['john.doe@example.com', 'jane.smith@example.com', 'sam.brown@example.com', 'erick.rogers@example.com']\n",
    "\n",
    "# Create a DataFrame with the contact_id, name, and email columns\n",
    "contacts_df_clean = pd.DataFrame({\n",
    "    'contact_id': contact_ids,\n",
    "    'company_name': company_names,\n",
    "    'email': emails\n",
    "})\n",
    "\n",
    "print(contacts_df_clean)"
   ]
  },
  {
   "cell_type": "code",
   "execution_count": 35,
   "metadata": {},
   "outputs": [
    {
     "name": "stdout",
     "output_type": "stream",
     "text": [
      "contact_id       int64\n",
      "company_name    object\n",
      "email           object\n",
      "dtype: object\n"
     ]
    }
   ],
   "source": [
    "import pandas as pd\n",
    "\n",
    "# Sample lists of values\n",
    "contact_ids = [5500, 3494, 3924, 3521]\n",
    "company_names = ['Ortiz-Roberts', 'Ramirez LLC', 'Morrow Inc', 'Erickson-Rogers']\n",
    "\n",
    "# Create a DataFrame with the contact_id, name, and email columns\n",
    "contact_info = pd.DataFrame({\n",
    "    'contact_id': contact_ids,\n",
    "    'company_name': company_names,\n",
    "    'email': emails\n",
    "})\n",
    "\n",
    "# Check the datatypes \n",
    "print(contact_info.dtypes)\n"
   ]
  },
  {
   "cell_type": "code",
   "execution_count": 36,
   "metadata": {},
   "outputs": [
    {
     "name": "stdout",
     "output_type": "stream",
     "text": [
      "  first_name last_name\n",
      "0    Cecilia   Velasco\n",
      "1    Mariana   Ellis\\t\n",
      "2      Sofie     Woods\n",
      "3   Jeanette  Iannotti\n",
      "4     Samuel   Sorgatz\n"
     ]
    }
   ],
   "source": [
    "import pandas as pd\n",
    "\n",
    "# Create name DataFrame\n",
    "data = {'contact_name': ['Cecilia Velasco', 'Mariana Ellis\t', 'Sofie Woods', 'Jeanette Iannotti', 'Samuel Sorgatz'] } \n",
    "\n",
    "df = pd.DataFrame(data)\n",
    "\n",
    "# Create a \"first\"name\" and \"last_name\" column with the first and last names from the \"name\" column. \n",
    "df[['first_name', 'last_name']] = df['contact_name'].str.split(' ', expand=True)\n",
    "\n",
    "# Drop the contact_name column\n",
    "df.drop('contact_name', axis=1, inplace=True) \n",
    "\n",
    "print(df)"
   ]
  },
  {
   "cell_type": "code",
   "execution_count": 37,
   "metadata": {},
   "outputs": [
    {
     "name": "stdout",
     "output_type": "stream",
     "text": [
      "  last_name first_name\n",
      "0   Velasco    Cecilia\n",
      "1   Ellis/t    Mariana\n",
      "2     Woods      Sofie\n",
      "3  Iannotti   Jeanette\n",
      "4   Sorgatz     Samuel\n"
     ]
    }
   ],
   "source": [
    "# Reorder the columns\n",
    "import pandas as pd\n",
    "\n",
    "# DataFrame with \"first_name\" and \"last_name\" columns\n",
    "data = {\n",
    "    'first_name': ['Cecilia', 'Mariana', 'Sofie', 'Jeanette', 'Samuel'],\n",
    "    'last_name': ['Velasco', 'Ellis/t', 'Woods', 'Iannotti', 'Sorgatz'],\n",
    "}\n",
    "df = pd.DataFrame(data)\n",
    "\n",
    "# Reorder the columns\n",
    "df = df[['last_name', 'first_name']]\n",
    "\n",
    "print(df)"
   ]
  },
  {
   "cell_type": "code",
   "execution_count": 38,
   "metadata": {},
   "outputs": [
    {
     "name": "stdout",
     "output_type": "stream",
     "text": [
      "first_name    object\n",
      "last_name     object\n",
      "dtype: object\n"
     ]
    }
   ],
   "source": [
    "# Check the datatypes one more time before exporting as CSV file.\n",
    "import pandas as pd\n",
    "\n",
    "# DataFrame with \"first_name\" and \"last_name\" columns\n",
    "data = {\n",
    "    'first_name': ['Cecilia', 'Mariana', 'Sofie', 'Jeanette', 'Samuel'],\n",
    "    'last_name': ['Velasco', 'Ellis/t', 'Woods', 'Iannotti', 'Sorgatz'],\n",
    "}\n",
    "df = pd.DataFrame(data)\n",
    "\n",
    "# Check the datatypes of the columns\n",
    "print(df.dtypes)\n",
    "\n",
    "# Export the DataFrame as a CSV file\n",
    "df.to_csv('output.csv', index=False)"
   ]
  },
  {
   "cell_type": "code",
   "execution_count": 39,
   "metadata": {},
   "outputs": [],
   "source": [
    "# Export the DataFrame as a CSV file. \n",
    "contacts_df_clean.to_csv(\"Resources/contacts.csv\", encoding='utf8', index=False)"
   ]
  },
  {
   "cell_type": "markdown",
   "metadata": {},
   "source": [
    "### Option 2: Use regex to create the contacts DataFrame."
   ]
  },
  {
   "cell_type": "code",
   "execution_count": 41,
   "metadata": {},
   "outputs": [
    {
     "data": {
      "text/html": [
       "<div>\n",
       "<style scoped>\n",
       "    .dataframe tbody tr th:only-of-type {\n",
       "        vertical-align: middle;\n",
       "    }\n",
       "\n",
       "    .dataframe tbody tr th {\n",
       "        vertical-align: top;\n",
       "    }\n",
       "\n",
       "    .dataframe thead th {\n",
       "        text-align: right;\n",
       "    }\n",
       "</style>\n",
       "<table border=\"1\" class=\"dataframe\">\n",
       "  <thead>\n",
       "    <tr style=\"text-align: right;\">\n",
       "      <th></th>\n",
       "      <th>contact_id</th>\n",
       "      <th>company_name</th>\n",
       "    </tr>\n",
       "  </thead>\n",
       "  <tbody>\n",
       "    <tr>\n",
       "      <th>0</th>\n",
       "      <td>5500</td>\n",
       "      <td>Ortiz-Roberts</td>\n",
       "    </tr>\n",
       "    <tr>\n",
       "      <th>1</th>\n",
       "      <td>3494</td>\n",
       "      <td>Ramirez LLC</td>\n",
       "    </tr>\n",
       "    <tr>\n",
       "      <th>2</th>\n",
       "      <td>3924</td>\n",
       "      <td>Morrow Inc</td>\n",
       "    </tr>\n",
       "    <tr>\n",
       "      <th>3</th>\n",
       "      <td>3521</td>\n",
       "      <td>Erickson-Rogers</td>\n",
       "    </tr>\n",
       "  </tbody>\n",
       "</table>\n",
       "</div>"
      ],
      "text/plain": [
       "   contact_id     company_name\n",
       "0        5500    Ortiz-Roberts\n",
       "1        3494      Ramirez LLC\n",
       "2        3924       Morrow Inc\n",
       "3        3521  Erickson-Rogers"
      ]
     },
     "execution_count": 41,
     "metadata": {},
     "output_type": "execute_result"
    }
   ],
   "source": [
    "import pandas as pd\n",
    "\n",
    "# Sample lists of values\n",
    "contact_ids = [5500, 3494, 3924, 3521]\n",
    "company_names = ['Ortiz-Roberts', 'Ramirez LLC', 'Morrow Inc', 'Erickson-Rogers']\n",
    "\n",
    "\n",
    "# Create a DataFrame with the contact_id, and name columns\n",
    "contact_info_df = pd.DataFrame({\n",
    "    'contact_id': contact_ids,\n",
    "    'company_name': company_names,\n",
    "})\n",
    "\n",
    "# Create a copy of the DataFrame\n",
    "contact_info_df_copy = contact_info_df.copy()\n",
    "\n",
    "# Display the first few rows of the copied DataFrame\n",
    "contact_info_df_copy.head()"
   ]
  },
  {
   "cell_type": "code",
   "execution_count": 42,
   "metadata": {},
   "outputs": [
    {
     "name": "stdout",
     "output_type": "stream",
     "text": [
      "  contact_id     company_name\n",
      "0       5500    Ortiz-Roberts\n",
      "1       3494      Ramirez LLC\n",
      "2       3924       Morrow Inc\n",
      "3       3521  Erickson-Rogers\n"
     ]
    }
   ],
   "source": [
    "# Extract the four-digit contact ID number.\n",
    "import pandas as pd\n",
    "\n",
    "# Sample lists of values\n",
    "contact_ids = [5500, 3494, 3924, 3521]\n",
    "company_names = ['Ortiz-Roberts', 'Ramirez LLC', 'Morrow Inc', 'Erickson-Rogers']\n",
    "\n",
    "# Create a DataFrame with the contact_id, and name columns\n",
    "contact_info_df = pd.DataFrame({\n",
    "    'contact_id': contact_ids,\n",
    "    'company_name': company_names,\n",
    "})\n",
    "\n",
    "# Extract the four-digit contact ID number\n",
    "contact_info_df['contact_id'] = contact_info_df['contact_id'].astype(str).str.extract(r'(\\d{4})')\n",
    "\n",
    "print(contact_info_df)"
   ]
  },
  {
   "cell_type": "code",
   "execution_count": 43,
   "metadata": {},
   "outputs": [
    {
     "name": "stdout",
     "output_type": "stream",
     "text": [
      "contact_id       int64\n",
      "company_name    object\n",
      "dtype: object\n"
     ]
    }
   ],
   "source": [
    "# Check the datatypes.\n",
    "import pandas as pd\n",
    "\n",
    "# Sample lists of values\n",
    "contact_ids = [5500, 3494, 3924, 3521]\n",
    "company_names = ['Ortiz-Roberts', 'Ramirez LLC', 'Morrow Inc', 'Erickson-Rogers']\n",
    "\n",
    "# Create a DataFrame with the contact_id, name, and email columns\n",
    "contact_info_df = pd.DataFrame({\n",
    "    'contact_id': contact_ids,\n",
    "    'company_name': company_names,\n",
    "})\n",
    "\n",
    "# Check the datatypes of the columns\n",
    "print(contact_info_df.dtypes)"
   ]
  },
  {
   "cell_type": "code",
   "execution_count": 44,
   "metadata": {},
   "outputs": [
    {
     "name": "stdout",
     "output_type": "stream",
     "text": [
      "contact_id       int64\n",
      "company_name    object\n",
      "email           object\n",
      "dtype: object\n"
     ]
    }
   ],
   "source": [
    "# Convert the \"contact_id\" column to an int64 data type.\n",
    "import pandas as pd\n",
    "\n",
    "# Sample lists of values\n",
    "contact_ids = [5500, 3494, 3924, 3521]\n",
    "company_names = ['Ortiz-Roberts', 'Ramirez LLC', 'Morrow Inc', 'Erickson-Rogers']\n",
    "emails = ['john.doe@example.com', 'jane.smith@example.com', 'sam.brown@example.com', 'erick.rogers@example.com']\n",
    "\n",
    "# Create a DataFrame with the contact_id, name, and email columns\n",
    "contact_info_df = pd.DataFrame({\n",
    "    'contact_id': contact_ids,\n",
    "    'company_name': company_names,\n",
    "    'email': emails\n",
    "})\n",
    "\n",
    "# Extract the four-digit contact ID number\n",
    "contact_info_df['contact_id'] = contact_info_df['contact_id'].astype(str).str.extract(r'(\\d{4})')\n",
    "\n",
    "# Convert the \"contact_id\" column to an int64 data type\n",
    "contact_info_df['contact_id'] = contact_info_df['contact_id'].astype('int64')\n",
    "\n",
    "# Check the datatypes of the columns\n",
    "print(contact_info_df.dtypes)\n"
   ]
  },
  {
   "cell_type": "code",
   "execution_count": 45,
   "metadata": {},
   "outputs": [
    {
     "name": "stdout",
     "output_type": "stream",
     "text": [
      "      company_name contact_name\n",
      "0    Ortiz-Roberts        Ortiz\n",
      "1      Ramirez LLC  Ramirez LLC\n",
      "2       Morrow Inc   Morrow Inc\n",
      "3  Erickson-Rogers     Erickson\n"
     ]
    }
   ],
   "source": [
    "import pandas as pd\n",
    "\n",
    "# Create DataFrame with \"company_name\" column\n",
    "data = {\n",
    "    'company_name': ['Ortiz-Roberts', 'Ramirez LLC', 'Morrow Inc', 'Erickson-Rogers']\n",
    "}\n",
    "df = pd.DataFrame(data)\n",
    "\n",
    "# Extract the name of the contact and add it to a new column\n",
    "df['contact_name'] = df['company_name'].str.split('-').str[0]\n",
    "\n",
    "print(df)"
   ]
  },
  {
   "cell_type": "code",
   "execution_count": 46,
   "metadata": {},
   "outputs": [],
   "source": [
    "# Extract the email from the contacts and add the values to a new column.\n"
   ]
  },
  {
   "cell_type": "code",
   "execution_count": 47,
   "metadata": {},
   "outputs": [
    {
     "name": "stdout",
     "output_type": "stream",
     "text": [
      "   contact_id contact_name\n",
      "0        5500        Ortiz\n",
      "1        3494  Ramirez LLC\n",
      "2        3924   Morrow Inc\n",
      "3        3521     Erickson\n"
     ]
    }
   ],
   "source": [
    "import pandas as pd\n",
    "\n",
    "# Sample lists of values\n",
    "contact_ids = [5500, 3494, 3924, 3521]\n",
    "company_names = ['Ortiz-Roberts', 'Ramirez LLC', 'Morrow Inc', 'Erickson-Rogers']\n",
    "\n",
    "# Create a DataFrame with the contact_id, name, and email columns\n",
    "contact_info_df = pd.DataFrame({\n",
    "    'contact_id': contact_ids,\n",
    "    'company_name': company_names \n",
    "})\n",
    "\n",
    "# Extract the name of the contact and add it to a new column\n",
    "contact_info_df['contact_name'] = contact_info_df['company_name'].str.split('-').str[0]\n",
    "\n",
    "# Create a copy of the contact_info_df with the 'contact_id', 'name', 'email' columns.\n",
    "contact_info_df_copy = contact_info_df[['contact_id', 'contact_name']]\n",
    "\n",
    "print(contact_info_df_copy)"
   ]
  },
  {
   "cell_type": "code",
   "execution_count": 48,
   "metadata": {},
   "outputs": [
    {
     "name": "stdout",
     "output_type": "stream",
     "text": [
      "  first_name last_name\n",
      "0    Cecelia   Velasco\n",
      "1    Mariana     Ellis\n",
      "2      Sofie     Woods\n",
      "3   Jeanette  Lannotti\n"
     ]
    }
   ],
   "source": [
    "import pandas as pd\n",
    "\n",
    "# Create DataFrame with \"name\" column\n",
    "data = {\n",
    "    'name': ['Cecelia Velasco', 'Mariana Ellis', 'Sofie Woods', 'Jeanette Lannotti']\n",
    "}\n",
    "df = pd.DataFrame(data)\n",
    "\n",
    "# Create a \"first\"name\" and \"last_name\" column with the first and last names from the \"name\" column.\n",
    "df['first_name'] = df['name'].str.split().str[0]\n",
    "df['last_name'] = df['name'].str.split().str[-1]\n",
    "\n",
    "# Drop the contact_name column\n",
    "df.drop('name', axis=1, inplace=True)\n",
    "\n",
    "print(df)"
   ]
  },
  {
   "cell_type": "code",
   "execution_count": 49,
   "metadata": {},
   "outputs": [
    {
     "name": "stdout",
     "output_type": "stream",
     "text": [
      "  last_name first_name                         email\n",
      "0   Velasco    Cecelia  cecilia.velasco@rodrigues.fr\n",
      "1     Ellis    Mariana       mariana.ellis@rossi.org\n",
      "2     Woods      Sofie       sofie.woods@riviere.com\n",
      "3  Lannotti   Jeanette      samuel.sorgatz@gmail.com\n"
     ]
    }
   ],
   "source": [
    "import pandas as pd\n",
    "\n",
    "# Create DataFrame\n",
    "data = {\n",
    "    'first_name': ['Cecelia', 'Mariana', 'Sofie', 'Jeanette'],\n",
    "    'last_name': ['Velasco', 'Ellis', 'Woods', 'Lannotti'],\n",
    "    'email': ['cecilia.velasco@rodrigues.fr', 'mariana.ellis@rossi.org', 'sofie.woods@riviere.com', 'samuel.sorgatz@gmail.com']\n",
    "}\n",
    "df = pd.DataFrame(data)\n",
    "\n",
    "# Reorder the columns\n",
    "df = df[['last_name', 'first_name', 'email']]\n",
    "\n",
    "print(df)"
   ]
  },
  {
   "cell_type": "code",
   "execution_count": 50,
   "metadata": {},
   "outputs": [],
   "source": [
    "# Check the datatypes one more time before exporting as CSV file.\n"
   ]
  },
  {
   "cell_type": "code",
   "execution_count": 51,
   "metadata": {},
   "outputs": [],
   "source": [
    "import pandas as pd\n",
    "\n",
    "# Create a DataFrame\n",
    "data = {\n",
    "    'first_name': ['Cecelia', 'Mariana', 'Sofie', 'Jeanette'],\n",
    "    'last_name': ['Velasco', 'Ellis', 'Woods', 'Lannotti'],\n",
    "    'email': ['cecilia.velasco@rodrigues.fr', 'mariana.ellis@rossi.org', 'sofie.woods@riviere.com', 'samuel.sorgatz@gmail.com'],\n",
    "}\n",
    "contacts_df_clean = pd.DataFrame(data)\n",
    "\n",
    "# Export the DataFrame as a CSV file  \n",
    "contacts_df_clean.to_csv(\"Resources/contacts.csv\", encoding='utf8', index=False)"
   ]
  },
  {
   "cell_type": "code",
   "execution_count": null,
   "metadata": {},
   "outputs": [],
   "source": []
  },
  {
   "cell_type": "code",
   "execution_count": null,
   "metadata": {},
   "outputs": [],
   "source": []
  }
 ],
 "metadata": {
  "kernelspec": {
   "display_name": "Python 3 (ipykernel)",
   "language": "python",
   "name": "python3"
  },
  "language_info": {
   "codemirror_mode": {
    "name": "ipython",
    "version": 3
   },
   "file_extension": ".py",
   "mimetype": "text/x-python",
   "name": "python",
   "nbconvert_exporter": "python",
   "pygments_lexer": "ipython3",
   "version": "3.12.4"
  }
 },
 "nbformat": 4,
 "nbformat_minor": 4
}
